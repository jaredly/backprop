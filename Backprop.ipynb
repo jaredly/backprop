{
 "metadata": {
  "name": ""
 },
 "nbformat": 3,
 "nbformat_minor": 0,
 "worksheets": [
  {
   "cells": [
    {
     "cell_type": "code",
     "collapsed": false,
     "input": [
      "import numpy as n"
     ],
     "language": "python",
     "metadata": {},
     "outputs": [],
     "prompt_number": 57
    },
    {
     "cell_type": "code",
     "collapsed": false,
     "input": [
      "n.zeros((3, 2))"
     ],
     "language": "python",
     "metadata": {},
     "outputs": [
      {
       "metadata": {},
       "output_type": "pyout",
       "prompt_number": 3,
       "text": [
        "array([[ 0.,  0.],\n",
        "       [ 0.,  0.],\n",
        "       [ 0.,  0.]])"
       ]
      }
     ],
     "prompt_number": 3
    },
    {
     "cell_type": "code",
     "collapsed": false,
     "input": [
      "z = n.array([range(3), range(3,6)])"
     ],
     "language": "python",
     "metadata": {},
     "outputs": [],
     "prompt_number": 8
    },
    {
     "cell_type": "code",
     "collapsed": false,
     "input": [
      "z"
     ],
     "language": "python",
     "metadata": {},
     "outputs": [
      {
       "metadata": {},
       "output_type": "pyout",
       "prompt_number": 9,
       "text": [
        "array([[0, 1, 2],\n",
        "       [3, 4, 5]])"
       ]
      }
     ],
     "prompt_number": 9
    },
    {
     "cell_type": "code",
     "collapsed": false,
     "input": [
      "z  *n.array(range(3))"
     ],
     "language": "python",
     "metadata": {},
     "outputs": [
      {
       "metadata": {},
       "output_type": "pyout",
       "prompt_number": 14,
       "text": [
        "array([[ 0,  1,  4],\n",
        "       [ 0,  4, 10]])"
       ]
      }
     ],
     "prompt_number": 14
    },
    {
     "cell_type": "code",
     "collapsed": false,
     "input": [
      "n.random.rand(2,3)"
     ],
     "language": "python",
     "metadata": {},
     "outputs": [
      {
       "metadata": {},
       "output_type": "pyout",
       "prompt_number": 10,
       "text": [
        "array([[ 0.47085029,  0.12351045,  0.27813767],\n",
        "       [ 0.05075628,  0.26288527,  0.32965109]])"
       ]
      }
     ],
     "prompt_number": 10
    },
    {
     "cell_type": "code",
     "collapsed": false,
     "input": [
      "n.concatenate?"
     ],
     "language": "python",
     "metadata": {},
     "outputs": [],
     "prompt_number": 12
    },
    {
     "cell_type": "code",
     "collapsed": false,
     "input": [
      "level = n.array(((1, 2), (3, 4)))"
     ],
     "language": "python",
     "metadata": {},
     "outputs": [],
     "prompt_number": 10
    },
    {
     "cell_type": "code",
     "collapsed": false,
     "input": [
      "level"
     ],
     "language": "python",
     "metadata": {},
     "outputs": [
      {
       "metadata": {},
       "output_type": "pyout",
       "prompt_number": 11,
       "text": [
        "array([[1, 2],\n",
        "       [3, 4]])"
       ]
      }
     ],
     "prompt_number": 11
    },
    {
     "cell_type": "code",
     "collapsed": false,
     "input": [
      "level.dot(n.array((3, 4)))"
     ],
     "language": "python",
     "metadata": {},
     "outputs": [
      {
       "metadata": {},
       "output_type": "pyout",
       "prompt_number": 13,
       "text": [
        "array([11, 25])"
       ]
      }
     ],
     "prompt_number": 13
    },
    {
     "cell_type": "code",
     "collapsed": false,
     "input": [
      "m"
     ],
     "language": "python",
     "metadata": {},
     "outputs": [
      {
       "metadata": {},
       "output_type": "pyout",
       "prompt_number": 17,
       "text": [
        "[array([[0, 1, 2],\n",
        "       [3, 4, 5]])]"
       ]
      }
     ],
     "prompt_number": 17
    },
    {
     "cell_type": "code",
     "collapsed": false,
     "input": [
      "z+=1"
     ],
     "language": "python",
     "metadata": {},
     "outputs": [],
     "prompt_number": 19
    },
    {
     "cell_type": "code",
     "collapsed": false,
     "input": [
      "z =+ z*1.1"
     ],
     "language": "python",
     "metadata": {},
     "outputs": [],
     "prompt_number": 22
    },
    {
     "cell_type": "code",
     "collapsed": false,
     "input": [
      "w=n.array([[1,2]])"
     ],
     "language": "python",
     "metadata": {},
     "outputs": [],
     "prompt_number": 34
    },
    {
     "cell_type": "code",
     "collapsed": false,
     "input": [
      "w.transpose().dot(n.array([4]))"
     ],
     "language": "python",
     "metadata": {},
     "outputs": [
      {
       "metadata": {},
       "output_type": "pyout",
       "prompt_number": 35,
       "text": [
        "array([4, 8])"
       ]
      }
     ],
     "prompt_number": 35
    },
    {
     "cell_type": "code",
     "collapsed": false,
     "input": [
      "w"
     ],
     "language": "python",
     "metadata": {},
     "outputs": [
      {
       "metadata": {},
       "output_type": "pyout",
       "prompt_number": 36,
       "text": [
        "array([[1, 2]])"
       ]
      }
     ],
     "prompt_number": 36
    },
    {
     "cell_type": "code",
     "collapsed": false,
     "input": [
      "w"
     ],
     "language": "python",
     "metadata": {},
     "outputs": [
      {
       "metadata": {},
       "output_type": "pyout",
       "prompt_number": 37,
       "text": [
        "array([[1, 2]])"
       ]
      }
     ],
     "prompt_number": 37
    },
    {
     "cell_type": "code",
     "collapsed": false,
     "input": [
      "n.array([2,3]).transpose()"
     ],
     "language": "python",
     "metadata": {},
     "outputs": [
      {
       "metadata": {},
       "output_type": "pyout",
       "prompt_number": 38,
       "text": [
        "array([2, 3])"
       ]
      }
     ],
     "prompt_number": 38
    },
    {
     "cell_type": "code",
     "collapsed": false,
     "input": [
      "a=n.array([2,3])"
     ],
     "language": "python",
     "metadata": {},
     "outputs": [],
     "prompt_number": 39
    },
    {
     "cell_type": "code",
     "collapsed": false,
     "input": [
      "a.reshape((2, 1))"
     ],
     "language": "python",
     "metadata": {},
     "outputs": [
      {
       "metadata": {},
       "output_type": "pyout",
       "prompt_number": 51,
       "text": [
        "array([[2],\n",
        "       [3]])"
       ]
      }
     ],
     "prompt_number": 51
    },
    {
     "cell_type": "code",
     "collapsed": false,
     "input": [
      "a.argmax()"
     ],
     "language": "python",
     "metadata": {},
     "outputs": [
      {
       "metadata": {},
       "output_type": "pyout",
       "prompt_number": 109,
       "text": [
        "1"
       ]
      }
     ],
     "prompt_number": 109
    },
    {
     "cell_type": "code",
     "collapsed": false,
     "input": [
      "import net; reload(net)\n",
      "import runner; reload(runner)\n",
      "import learner; reload(learner)\n",
      "import backprop; reload(backprop)\n",
      "from backprop import BackProp"
     ],
     "language": "python",
     "metadata": {},
     "outputs": [],
     "prompt_number": 132
    },
    {
     "cell_type": "code",
     "collapsed": false,
     "input": [
      "none = res"
     ],
     "language": "python",
     "metadata": {},
     "outputs": [],
     "prompt_number": 150
    },
    {
     "cell_type": "code",
     "collapsed": false,
     "input": [
      "r, d = backprop.BackProp.fromArff('./data/iris.arff', layers=[4])\n",
      "res = r.run(d, .7)\n",
      "print res[1], 'Final Accuracy'"
     ],
     "language": "python",
     "metadata": {},
     "outputs": [
      {
       "output_type": "stream",
       "stream": "stdout",
       "text": [
        "Using 105 for training, and 45 for testing\n",
        ". . "
       ]
      },
      {
       "output_type": "stream",
       "stream": "stdout",
       "text": [
        ". . "
       ]
      },
      {
       "output_type": "stream",
       "stream": "stdout",
       "text": [
        ". . "
       ]
      },
      {
       "output_type": "stream",
       "stream": "stdout",
       "text": [
        ". . "
       ]
      },
      {
       "output_type": "stream",
       "stream": "stdout",
       "text": [
        ". . "
       ]
      },
      {
       "output_type": "stream",
       "stream": "stdout",
       "text": [
        ". . "
       ]
      },
      {
       "output_type": "stream",
       "stream": "stdout",
       "text": [
        ". . "
       ]
      },
      {
       "output_type": "stream",
       "stream": "stdout",
       "text": [
        ". . "
       ]
      },
      {
       "output_type": "stream",
       "stream": "stdout",
       "text": [
        ". . "
       ]
      },
      {
       "output_type": "stream",
       "stream": "stdout",
       "text": [
        ". . "
       ]
      },
      {
       "output_type": "stream",
       "stream": "stdout",
       "text": [
        ". . "
       ]
      },
      {
       "output_type": "stream",
       "stream": "stdout",
       "text": [
        ". . "
       ]
      },
      {
       "output_type": "stream",
       "stream": "stdout",
       "text": [
        ". . "
       ]
      },
      {
       "output_type": "stream",
       "stream": "stdout",
       "text": [
        ". . "
       ]
      },
      {
       "output_type": "stream",
       "stream": "stdout",
       "text": [
        ". . "
       ]
      },
      {
       "output_type": "stream",
       "stream": "stdout",
       "text": [
        ". . "
       ]
      },
      {
       "output_type": "stream",
       "stream": "stdout",
       "text": [
        ". . "
       ]
      },
      {
       "output_type": "stream",
       "stream": "stdout",
       "text": [
        ". . "
       ]
      },
      {
       "output_type": "stream",
       "stream": "stdout",
       "text": [
        ". . "
       ]
      },
      {
       "output_type": "stream",
       "stream": "stdout",
       "text": [
        ". . "
       ]
      },
      {
       "output_type": "stream",
       "stream": "stdout",
       "text": [
        ". . "
       ]
      },
      {
       "output_type": "stream",
       "stream": "stdout",
       "text": [
        ". . "
       ]
      },
      {
       "output_type": "stream",
       "stream": "stdout",
       "text": [
        ". . "
       ]
      },
      {
       "output_type": "stream",
       "stream": "stdout",
       "text": [
        ". . "
       ]
      },
      {
       "output_type": "stream",
       "stream": "stdout",
       "text": [
        ". . "
       ]
      },
      {
       "output_type": "stream",
       "stream": "stdout",
       "text": [
        ". . "
       ]
      },
      {
       "output_type": "stream",
       "stream": "stdout",
       "text": [
        ". . "
       ]
      },
      {
       "output_type": "stream",
       "stream": "stdout",
       "text": [
        ". . "
       ]
      },
      {
       "output_type": "stream",
       "stream": "stdout",
       "text": [
        ". . "
       ]
      },
      {
       "output_type": "stream",
       "stream": "stdout",
       "text": [
        ". . "
       ]
      },
      {
       "output_type": "stream",
       "stream": "stdout",
       "text": [
        ". . "
       ]
      },
      {
       "output_type": "stream",
       "stream": "stdout",
       "text": [
        ". . "
       ]
      },
      {
       "output_type": "stream",
       "stream": "stdout",
       "text": [
        ". . "
       ]
      },
      {
       "output_type": "stream",
       "stream": "stdout",
       "text": [
        ". . "
       ]
      },
      {
       "output_type": "stream",
       "stream": "stdout",
       "text": [
        ". . "
       ]
      },
      {
       "output_type": "stream",
       "stream": "stdout",
       "text": [
        ". . "
       ]
      },
      {
       "output_type": "stream",
       "stream": "stdout",
       "text": [
        ". . "
       ]
      },
      {
       "output_type": "stream",
       "stream": "stdout",
       "text": [
        ". . "
       ]
      },
      {
       "output_type": "stream",
       "stream": "stdout",
       "text": [
        ". . "
       ]
      },
      {
       "output_type": "stream",
       "stream": "stdout",
       "text": [
        ". . "
       ]
      },
      {
       "output_type": "stream",
       "stream": "stdout",
       "text": [
        ". . "
       ]
      },
      {
       "output_type": "stream",
       "stream": "stdout",
       "text": [
        ". . "
       ]
      },
      {
       "output_type": "stream",
       "stream": "stdout",
       "text": [
        ". . "
       ]
      },
      {
       "output_type": "stream",
       "stream": "stdout",
       "text": [
        ". . "
       ]
      },
      {
       "output_type": "stream",
       "stream": "stdout",
       "text": [
        ". . "
       ]
      },
      {
       "output_type": "stream",
       "stream": "stdout",
       "text": [
        ". . "
       ]
      },
      {
       "output_type": "stream",
       "stream": "stdout",
       "text": [
        ". . "
       ]
      },
      {
       "output_type": "stream",
       "stream": "stdout",
       "text": [
        ". . "
       ]
      },
      {
       "output_type": "stream",
       "stream": "stdout",
       "text": [
        ". . "
       ]
      },
      {
       "output_type": "stream",
       "stream": "stdout",
       "text": [
        ". . "
       ]
      },
      {
       "output_type": "stream",
       "stream": "stdout",
       "text": [
        ". . "
       ]
      },
      {
       "output_type": "stream",
       "stream": "stdout",
       "text": [
        ". . "
       ]
      },
      {
       "output_type": "stream",
       "stream": "stdout",
       "text": [
        ". . "
       ]
      },
      {
       "output_type": "stream",
       "stream": "stdout",
       "text": [
        ". . "
       ]
      },
      {
       "output_type": "stream",
       "stream": "stdout",
       "text": [
        ". . "
       ]
      },
      {
       "output_type": "stream",
       "stream": "stdout",
       "text": [
        ". . "
       ]
      },
      {
       "output_type": "stream",
       "stream": "stdout",
       "text": [
        ". . "
       ]
      },
      {
       "output_type": "stream",
       "stream": "stdout",
       "text": [
        ". . "
       ]
      },
      {
       "output_type": "stream",
       "stream": "stdout",
       "text": [
        ". . "
       ]
      },
      {
       "output_type": "stream",
       "stream": "stdout",
       "text": [
        ". . "
       ]
      },
      {
       "output_type": "stream",
       "stream": "stdout",
       "text": [
        ". . "
       ]
      },
      {
       "output_type": "stream",
       "stream": "stdout",
       "text": [
        ". . "
       ]
      },
      {
       "output_type": "stream",
       "stream": "stdout",
       "text": [
        ". . "
       ]
      },
      {
       "output_type": "stream",
       "stream": "stdout",
       "text": [
        ". . "
       ]
      },
      {
       "output_type": "stream",
       "stream": "stdout",
       "text": [
        ". . "
       ]
      },
      {
       "output_type": "stream",
       "stream": "stdout",
       "text": [
        ". . "
       ]
      },
      {
       "output_type": "stream",
       "stream": "stdout",
       "text": [
        ". . "
       ]
      },
      {
       "output_type": "stream",
       "stream": "stdout",
       "text": [
        ". . "
       ]
      },
      {
       "output_type": "stream",
       "stream": "stdout",
       "text": [
        ". . "
       ]
      },
      {
       "output_type": "stream",
       "stream": "stdout",
       "text": [
        ". . "
       ]
      },
      {
       "output_type": "stream",
       "stream": "stdout",
       "text": [
        ". . "
       ]
      },
      {
       "output_type": "stream",
       "stream": "stdout",
       "text": [
        ". . "
       ]
      },
      {
       "output_type": "stream",
       "stream": "stdout",
       "text": [
        ". . "
       ]
      },
      {
       "output_type": "stream",
       "stream": "stdout",
       "text": [
        ". . "
       ]
      },
      {
       "output_type": "stream",
       "stream": "stdout",
       "text": [
        ". . "
       ]
      },
      {
       "output_type": "stream",
       "stream": "stdout",
       "text": [
        ". . "
       ]
      },
      {
       "output_type": "stream",
       "stream": "stdout",
       "text": [
        ". . "
       ]
      },
      {
       "output_type": "stream",
       "stream": "stdout",
       "text": [
        ". . "
       ]
      },
      {
       "output_type": "stream",
       "stream": "stdout",
       "text": [
        ". . "
       ]
      },
      {
       "output_type": "stream",
       "stream": "stdout",
       "text": [
        ". . "
       ]
      },
      {
       "output_type": "stream",
       "stream": "stdout",
       "text": [
        ". . "
       ]
      },
      {
       "output_type": "stream",
       "stream": "stdout",
       "text": [
        ". . "
       ]
      },
      {
       "output_type": "stream",
       "stream": "stdout",
       "text": [
        ". . "
       ]
      },
      {
       "output_type": "stream",
       "stream": "stdout",
       "text": [
        ". . "
       ]
      },
      {
       "output_type": "stream",
       "stream": "stdout",
       "text": [
        ". . "
       ]
      },
      {
       "output_type": "stream",
       "stream": "stdout",
       "text": [
        ". . "
       ]
      },
      {
       "output_type": "stream",
       "stream": "stdout",
       "text": [
        ". . "
       ]
      },
      {
       "output_type": "stream",
       "stream": "stdout",
       "text": [
        ". . "
       ]
      },
      {
       "output_type": "stream",
       "stream": "stdout",
       "text": [
        ". . "
       ]
      },
      {
       "output_type": "stream",
       "stream": "stdout",
       "text": [
        ". . "
       ]
      },
      {
       "output_type": "stream",
       "stream": "stdout",
       "text": [
        ". . "
       ]
      },
      {
       "output_type": "stream",
       "stream": "stdout",
       "text": [
        ". . "
       ]
      },
      {
       "output_type": "stream",
       "stream": "stdout",
       "text": [
        ". . "
       ]
      },
      {
       "output_type": "stream",
       "stream": "stdout",
       "text": [
        ". . "
       ]
      },
      {
       "output_type": "stream",
       "stream": "stdout",
       "text": [
        ". . "
       ]
      },
      {
       "output_type": "stream",
       "stream": "stdout",
       "text": [
        ". . "
       ]
      },
      {
       "output_type": "stream",
       "stream": "stdout",
       "text": [
        ". . "
       ]
      },
      {
       "output_type": "stream",
       "stream": "stdout",
       "text": [
        ". . "
       ]
      },
      {
       "output_type": "stream",
       "stream": "stdout",
       "text": [
        ". . "
       ]
      },
      {
       "output_type": "stream",
       "stream": "stdout",
       "text": [
        ". . "
       ]
      },
      {
       "output_type": "stream",
       "stream": "stdout",
       "text": [
        ". . "
       ]
      },
      {
       "output_type": "stream",
       "stream": "stdout",
       "text": [
        ". . "
       ]
      },
      {
       "output_type": "stream",
       "stream": "stdout",
       "text": [
        ". . "
       ]
      },
      {
       "output_type": "stream",
       "stream": "stdout",
       "text": [
        ". . "
       ]
      },
      {
       "output_type": "stream",
       "stream": "stdout",
       "text": [
        ". . "
       ]
      },
      {
       "output_type": "stream",
       "stream": "stdout",
       "text": [
        ". . "
       ]
      },
      {
       "output_type": "stream",
       "stream": "stdout",
       "text": [
        ". . "
       ]
      },
      {
       "output_type": "stream",
       "stream": "stdout",
       "text": [
        ". . "
       ]
      },
      {
       "output_type": "stream",
       "stream": "stdout",
       "text": [
        ". . "
       ]
      },
      {
       "output_type": "stream",
       "stream": "stdout",
       "text": [
        ". . "
       ]
      },
      {
       "output_type": "stream",
       "stream": "stdout",
       "text": [
        ". . "
       ]
      },
      {
       "output_type": "stream",
       "stream": "stdout",
       "text": [
        ". . "
       ]
      },
      {
       "output_type": "stream",
       "stream": "stdout",
       "text": [
        ". . "
       ]
      },
      {
       "output_type": "stream",
       "stream": "stdout",
       "text": [
        ". . "
       ]
      },
      {
       "output_type": "stream",
       "stream": "stdout",
       "text": [
        ". . "
       ]
      },
      {
       "output_type": "stream",
       "stream": "stdout",
       "text": [
        ". . "
       ]
      },
      {
       "output_type": "stream",
       "stream": "stdout",
       "text": [
        ". . "
       ]
      },
      {
       "output_type": "stream",
       "stream": "stdout",
       "text": [
        ". . "
       ]
      },
      {
       "output_type": "stream",
       "stream": "stdout",
       "text": [
        ". . "
       ]
      },
      {
       "output_type": "stream",
       "stream": "stdout",
       "text": [
        ". . "
       ]
      },
      {
       "output_type": "stream",
       "stream": "stdout",
       "text": [
        ". . "
       ]
      },
      {
       "output_type": "stream",
       "stream": "stdout",
       "text": [
        ". . "
       ]
      },
      {
       "output_type": "stream",
       "stream": "stdout",
       "text": [
        ". . "
       ]
      },
      {
       "output_type": "stream",
       "stream": "stdout",
       "text": [
        ". . "
       ]
      },
      {
       "output_type": "stream",
       "stream": "stdout",
       "text": [
        ". . "
       ]
      },
      {
       "output_type": "stream",
       "stream": "stdout",
       "text": [
        ". . "
       ]
      },
      {
       "output_type": "stream",
       "stream": "stdout",
       "text": [
        ". . "
       ]
      },
      {
       "output_type": "stream",
       "stream": "stdout",
       "text": [
        ". . "
       ]
      },
      {
       "output_type": "stream",
       "stream": "stdout",
       "text": [
        ". . "
       ]
      },
      {
       "output_type": "stream",
       "stream": "stdout",
       "text": [
        ". . "
       ]
      },
      {
       "output_type": "stream",
       "stream": "stdout",
       "text": [
        ". . "
       ]
      },
      {
       "output_type": "stream",
       "stream": "stdout",
       "text": [
        ". . "
       ]
      },
      {
       "output_type": "stream",
       "stream": "stdout",
       "text": [
        ". . "
       ]
      },
      {
       "output_type": "stream",
       "stream": "stdout",
       "text": [
        ". . "
       ]
      },
      {
       "output_type": "stream",
       "stream": "stdout",
       "text": [
        ". . "
       ]
      },
      {
       "output_type": "stream",
       "stream": "stdout",
       "text": [
        ". . "
       ]
      },
      {
       "output_type": "stream",
       "stream": "stdout",
       "text": [
        ". . "
       ]
      },
      {
       "output_type": "stream",
       "stream": "stdout",
       "text": [
        ". . "
       ]
      },
      {
       "output_type": "stream",
       "stream": "stdout",
       "text": [
        ". . "
       ]
      },
      {
       "output_type": "stream",
       "stream": "stdout",
       "text": [
        ". . "
       ]
      },
      {
       "output_type": "stream",
       "stream": "stdout",
       "text": [
        ". . "
       ]
      },
      {
       "output_type": "stream",
       "stream": "stdout",
       "text": [
        ". . "
       ]
      },
      {
       "output_type": "stream",
       "stream": "stdout",
       "text": [
        ". . "
       ]
      },
      {
       "output_type": "stream",
       "stream": "stdout",
       "text": [
        ". . "
       ]
      },
      {
       "output_type": "stream",
       "stream": "stdout",
       "text": [
        ". . "
       ]
      },
      {
       "output_type": "stream",
       "stream": "stdout",
       "text": [
        ". . "
       ]
      },
      {
       "output_type": "stream",
       "stream": "stdout",
       "text": [
        ". . "
       ]
      },
      {
       "output_type": "stream",
       "stream": "stdout",
       "text": [
        ". . "
       ]
      },
      {
       "output_type": "stream",
       "stream": "stdout",
       "text": [
        ". . "
       ]
      },
      {
       "output_type": "stream",
       "stream": "stdout",
       "text": [
        ". . "
       ]
      },
      {
       "output_type": "stream",
       "stream": "stdout",
       "text": [
        ". . "
       ]
      },
      {
       "output_type": "stream",
       "stream": "stdout",
       "text": [
        ". . "
       ]
      },
      {
       "output_type": "stream",
       "stream": "stdout",
       "text": [
        ". . "
       ]
      },
      {
       "output_type": "stream",
       "stream": "stdout",
       "text": [
        ". . "
       ]
      },
      {
       "output_type": "stream",
       "stream": "stdout",
       "text": [
        ". . "
       ]
      },
      {
       "output_type": "stream",
       "stream": "stdout",
       "text": [
        ". . "
       ]
      },
      {
       "output_type": "stream",
       "stream": "stdout",
       "text": [
        ". . "
       ]
      },
      {
       "output_type": "stream",
       "stream": "stdout",
       "text": [
        ". . "
       ]
      },
      {
       "output_type": "stream",
       "stream": "stdout",
       "text": [
        ". . "
       ]
      },
      {
       "output_type": "stream",
       "stream": "stdout",
       "text": [
        ". . "
       ]
      },
      {
       "output_type": "stream",
       "stream": "stdout",
       "text": [
        ". . "
       ]
      },
      {
       "output_type": "stream",
       "stream": "stdout",
       "text": [
        ". . "
       ]
      },
      {
       "output_type": "stream",
       "stream": "stdout",
       "text": [
        ". . "
       ]
      },
      {
       "output_type": "stream",
       "stream": "stdout",
       "text": [
        ". . "
       ]
      },
      {
       "output_type": "stream",
       "stream": "stdout",
       "text": [
        ". . "
       ]
      },
      {
       "output_type": "stream",
       "stream": "stdout",
       "text": [
        ". . "
       ]
      },
      {
       "output_type": "stream",
       "stream": "stdout",
       "text": [
        ". . "
       ]
      },
      {
       "output_type": "stream",
       "stream": "stdout",
       "text": [
        ". . "
       ]
      },
      {
       "output_type": "stream",
       "stream": "stdout",
       "text": [
        ". . "
       ]
      },
      {
       "output_type": "stream",
       "stream": "stdout",
       "text": [
        ". . "
       ]
      },
      {
       "output_type": "stream",
       "stream": "stdout",
       "text": [
        ". . "
       ]
      },
      {
       "output_type": "stream",
       "stream": "stdout",
       "text": [
        ". . "
       ]
      },
      {
       "output_type": "stream",
       "stream": "stdout",
       "text": [
        ". . "
       ]
      },
      {
       "output_type": "stream",
       "stream": "stdout",
       "text": [
        ". . "
       ]
      },
      {
       "output_type": "stream",
       "stream": "stdout",
       "text": [
        ". . "
       ]
      },
      {
       "output_type": "stream",
       "stream": "stdout",
       "text": [
        ". "
       ]
      },
      {
       "output_type": "stream",
       "stream": "stdout",
       "text": [
        ". . "
       ]
      },
      {
       "output_type": "stream",
       "stream": "stdout",
       "text": [
        ". . "
       ]
      },
      {
       "output_type": "stream",
       "stream": "stdout",
       "text": [
        ". . "
       ]
      },
      {
       "output_type": "stream",
       "stream": "stdout",
       "text": [
        ". . "
       ]
      },
      {
       "output_type": "stream",
       "stream": "stdout",
       "text": [
        ". . "
       ]
      },
      {
       "output_type": "stream",
       "stream": "stdout",
       "text": [
        ". . "
       ]
      },
      {
       "output_type": "stream",
       "stream": "stdout",
       "text": [
        ". . "
       ]
      },
      {
       "output_type": "stream",
       "stream": "stdout",
       "text": [
        ". . "
       ]
      },
      {
       "output_type": "stream",
       "stream": "stdout",
       "text": [
        ". . "
       ]
      },
      {
       "output_type": "stream",
       "stream": "stdout",
       "text": [
        ". . "
       ]
      },
      {
       "output_type": "stream",
       "stream": "stdout",
       "text": [
        ". . "
       ]
      },
      {
       "output_type": "stream",
       "stream": "stdout",
       "text": [
        ". . "
       ]
      },
      {
       "output_type": "stream",
       "stream": "stdout",
       "text": [
        ". . "
       ]
      },
      {
       "output_type": "stream",
       "stream": "stdout",
       "text": [
        ". . "
       ]
      },
      {
       "output_type": "stream",
       "stream": "stdout",
       "text": [
        ". . "
       ]
      },
      {
       "output_type": "stream",
       "stream": "stdout",
       "text": [
        ". . "
       ]
      },
      {
       "output_type": "stream",
       "stream": "stdout",
       "text": [
        ". . "
       ]
      },
      {
       "output_type": "stream",
       "stream": "stdout",
       "text": [
        ". . "
       ]
      },
      {
       "output_type": "stream",
       "stream": "stdout",
       "text": [
        ". . "
       ]
      },
      {
       "output_type": "stream",
       "stream": "stdout",
       "text": [
        ". . "
       ]
      },
      {
       "output_type": "stream",
       "stream": "stdout",
       "text": [
        ". . "
       ]
      },
      {
       "output_type": "stream",
       "stream": "stdout",
       "text": [
        ". . "
       ]
      },
      {
       "output_type": "stream",
       "stream": "stdout",
       "text": [
        ". . "
       ]
      },
      {
       "output_type": "stream",
       "stream": "stdout",
       "text": [
        ". . "
       ]
      },
      {
       "output_type": "stream",
       "stream": "stdout",
       "text": [
        ". . "
       ]
      },
      {
       "output_type": "stream",
       "stream": "stdout",
       "text": [
        ". . "
       ]
      },
      {
       "output_type": "stream",
       "stream": "stdout",
       "text": [
        ". . "
       ]
      },
      {
       "output_type": "stream",
       "stream": "stdout",
       "text": [
        ". . "
       ]
      },
      {
       "output_type": "stream",
       "stream": "stdout",
       "text": [
        ". . "
       ]
      },
      {
       "output_type": "stream",
       "stream": "stdout",
       "text": [
        ". . "
       ]
      },
      {
       "output_type": "stream",
       "stream": "stdout",
       "text": [
        ". . "
       ]
      },
      {
       "output_type": "stream",
       "stream": "stdout",
       "text": [
        ". . "
       ]
      },
      {
       "output_type": "stream",
       "stream": "stdout",
       "text": [
        ". . "
       ]
      },
      {
       "output_type": "stream",
       "stream": "stdout",
       "text": [
        ". . "
       ]
      },
      {
       "output_type": "stream",
       "stream": "stdout",
       "text": [
        ". . "
       ]
      },
      {
       "output_type": "stream",
       "stream": "stdout",
       "text": [
        ". . "
       ]
      },
      {
       "output_type": "stream",
       "stream": "stdout",
       "text": [
        ". . "
       ]
      },
      {
       "output_type": "stream",
       "stream": "stdout",
       "text": [
        ". . "
       ]
      },
      {
       "output_type": "stream",
       "stream": "stdout",
       "text": [
        ". . "
       ]
      },
      {
       "output_type": "stream",
       "stream": "stdout",
       "text": [
        ". . "
       ]
      },
      {
       "output_type": "stream",
       "stream": "stdout",
       "text": [
        ". . "
       ]
      },
      {
       "output_type": "stream",
       "stream": "stdout",
       "text": [
        ". . "
       ]
      },
      {
       "output_type": "stream",
       "stream": "stdout",
       "text": [
        ". . "
       ]
      },
      {
       "output_type": "stream",
       "stream": "stdout",
       "text": [
        ". . "
       ]
      },
      {
       "output_type": "stream",
       "stream": "stdout",
       "text": [
        ". . "
       ]
      },
      {
       "output_type": "stream",
       "stream": "stdout",
       "text": [
        ". . "
       ]
      },
      {
       "output_type": "stream",
       "stream": "stdout",
       "text": [
        ". . "
       ]
      },
      {
       "output_type": "stream",
       "stream": "stdout",
       "text": [
        ". . "
       ]
      },
      {
       "output_type": "stream",
       "stream": "stdout",
       "text": [
        ". . "
       ]
      },
      {
       "output_type": "stream",
       "stream": "stdout",
       "text": [
        ". . "
       ]
      },
      {
       "output_type": "stream",
       "stream": "stdout",
       "text": [
        ". . "
       ]
      },
      {
       "output_type": "stream",
       "stream": "stdout",
       "text": [
        ". . "
       ]
      },
      {
       "output_type": "stream",
       "stream": "stdout",
       "text": [
        ". . "
       ]
      },
      {
       "output_type": "stream",
       "stream": "stdout",
       "text": [
        ". . "
       ]
      },
      {
       "output_type": "stream",
       "stream": "stdout",
       "text": [
        ". . "
       ]
      },
      {
       "output_type": "stream",
       "stream": "stdout",
       "text": [
        ". . "
       ]
      },
      {
       "output_type": "stream",
       "stream": "stdout",
       "text": [
        ". . "
       ]
      },
      {
       "output_type": "stream",
       "stream": "stdout",
       "text": [
        ". . "
       ]
      },
      {
       "output_type": "stream",
       "stream": "stdout",
       "text": [
        ". . "
       ]
      },
      {
       "output_type": "stream",
       "stream": "stdout",
       "text": [
        ". . "
       ]
      },
      {
       "output_type": "stream",
       "stream": "stdout",
       "text": [
        ". . "
       ]
      },
      {
       "output_type": "stream",
       "stream": "stdout",
       "text": [
        ". . "
       ]
      },
      {
       "output_type": "stream",
       "stream": "stdout",
       "text": [
        ". . "
       ]
      },
      {
       "output_type": "stream",
       "stream": "stdout",
       "text": [
        ". . "
       ]
      },
      {
       "output_type": "stream",
       "stream": "stdout",
       "text": [
        ". . "
       ]
      },
      {
       "output_type": "stream",
       "stream": "stdout",
       "text": [
        ". . "
       ]
      },
      {
       "output_type": "stream",
       "stream": "stdout",
       "text": [
        ". . "
       ]
      },
      {
       "output_type": "stream",
       "stream": "stdout",
       "text": [
        ". . "
       ]
      },
      {
       "output_type": "stream",
       "stream": "stdout",
       "text": [
        ". . "
       ]
      },
      {
       "output_type": "stream",
       "stream": "stdout",
       "text": [
        ". . "
       ]
      },
      {
       "output_type": "stream",
       "stream": "stdout",
       "text": [
        ". . "
       ]
      },
      {
       "output_type": "stream",
       "stream": "stdout",
       "text": [
        ". . "
       ]
      },
      {
       "output_type": "stream",
       "stream": "stdout",
       "text": [
        ". . "
       ]
      },
      {
       "output_type": "stream",
       "stream": "stdout",
       "text": [
        ". . "
       ]
      },
      {
       "output_type": "stream",
       "stream": "stdout",
       "text": [
        ". . "
       ]
      },
      {
       "output_type": "stream",
       "stream": "stdout",
       "text": [
        ". . "
       ]
      },
      {
       "output_type": "stream",
       "stream": "stdout",
       "text": [
        ". . "
       ]
      },
      {
       "output_type": "stream",
       "stream": "stdout",
       "text": [
        ". . "
       ]
      },
      {
       "output_type": "stream",
       "stream": "stdout",
       "text": [
        ". . "
       ]
      },
      {
       "output_type": "stream",
       "stream": "stdout",
       "text": [
        ". . "
       ]
      },
      {
       "output_type": "stream",
       "stream": "stdout",
       "text": [
        ". . "
       ]
      },
      {
       "output_type": "stream",
       "stream": "stdout",
       "text": [
        ". . "
       ]
      },
      {
       "output_type": "stream",
       "stream": "stdout",
       "text": [
        ". . "
       ]
      },
      {
       "output_type": "stream",
       "stream": "stdout",
       "text": [
        ". . "
       ]
      },
      {
       "output_type": "stream",
       "stream": "stdout",
       "text": [
        ". . "
       ]
      },
      {
       "output_type": "stream",
       "stream": "stdout",
       "text": [
        ". . "
       ]
      },
      {
       "output_type": "stream",
       "stream": "stdout",
       "text": [
        ". . "
       ]
      },
      {
       "output_type": "stream",
       "stream": "stdout",
       "text": [
        ". . "
       ]
      },
      {
       "output_type": "stream",
       "stream": "stdout",
       "text": [
        ". . "
       ]
      },
      {
       "output_type": "stream",
       "stream": "stdout",
       "text": [
        ". . "
       ]
      },
      {
       "output_type": "stream",
       "stream": "stdout",
       "text": [
        ". . "
       ]
      },
      {
       "output_type": "stream",
       "stream": "stdout",
       "text": [
        ". . "
       ]
      },
      {
       "output_type": "stream",
       "stream": "stdout",
       "text": [
        ". . "
       ]
      },
      {
       "output_type": "stream",
       "stream": "stdout",
       "text": [
        ". . "
       ]
      },
      {
       "output_type": "stream",
       "stream": "stdout",
       "text": [
        ". . "
       ]
      },
      {
       "output_type": "stream",
       "stream": "stdout",
       "text": [
        ". . "
       ]
      },
      {
       "output_type": "stream",
       "stream": "stdout",
       "text": [
        ". . "
       ]
      },
      {
       "output_type": "stream",
       "stream": "stdout",
       "text": [
        ". . "
       ]
      },
      {
       "output_type": "stream",
       "stream": "stdout",
       "text": [
        ". . "
       ]
      },
      {
       "output_type": "stream",
       "stream": "stdout",
       "text": [
        ". . "
       ]
      },
      {
       "output_type": "stream",
       "stream": "stdout",
       "text": [
        ". . "
       ]
      },
      {
       "output_type": "stream",
       "stream": "stdout",
       "text": [
        ". . "
       ]
      },
      {
       "output_type": "stream",
       "stream": "stdout",
       "text": [
        ". . "
       ]
      },
      {
       "output_type": "stream",
       "stream": "stdout",
       "text": [
        ". . "
       ]
      },
      {
       "output_type": "stream",
       "stream": "stdout",
       "text": [
        ". . "
       ]
      },
      {
       "output_type": "stream",
       "stream": "stdout",
       "text": [
        ". . "
       ]
      },
      {
       "output_type": "stream",
       "stream": "stdout",
       "text": [
        ". . "
       ]
      },
      {
       "output_type": "stream",
       "stream": "stdout",
       "text": [
        ". . "
       ]
      },
      {
       "output_type": "stream",
       "stream": "stdout",
       "text": [
        ". . "
       ]
      },
      {
       "output_type": "stream",
       "stream": "stdout",
       "text": [
        ". . "
       ]
      },
      {
       "output_type": "stream",
       "stream": "stdout",
       "text": [
        ". . "
       ]
      },
      {
       "output_type": "stream",
       "stream": "stdout",
       "text": [
        ". . "
       ]
      },
      {
       "output_type": "stream",
       "stream": "stdout",
       "text": [
        ". . "
       ]
      },
      {
       "output_type": "stream",
       "stream": "stdout",
       "text": [
        ". . "
       ]
      },
      {
       "output_type": "stream",
       "stream": "stdout",
       "text": [
        ". . "
       ]
      },
      {
       "output_type": "stream",
       "stream": "stdout",
       "text": [
        ". . "
       ]
      },
      {
       "output_type": "stream",
       "stream": "stdout",
       "text": [
        ". . "
       ]
      },
      {
       "output_type": "stream",
       "stream": "stdout",
       "text": [
        ". . "
       ]
      },
      {
       "output_type": "stream",
       "stream": "stdout",
       "text": [
        ". . "
       ]
      },
      {
       "output_type": "stream",
       "stream": "stdout",
       "text": [
        ". . "
       ]
      },
      {
       "output_type": "stream",
       "stream": "stdout",
       "text": [
        ". . "
       ]
      },
      {
       "output_type": "stream",
       "stream": "stdout",
       "text": [
        ". . "
       ]
      },
      {
       "output_type": "stream",
       "stream": "stdout",
       "text": [
        ". . "
       ]
      },
      {
       "output_type": "stream",
       "stream": "stdout",
       "text": [
        ". . "
       ]
      },
      {
       "output_type": "stream",
       "stream": "stdout",
       "text": [
        ". . "
       ]
      },
      {
       "output_type": "stream",
       "stream": "stdout",
       "text": [
        ". . "
       ]
      },
      {
       "output_type": "stream",
       "stream": "stdout",
       "text": [
        ". . "
       ]
      },
      {
       "output_type": "stream",
       "stream": "stdout",
       "text": [
        ". . "
       ]
      },
      {
       "output_type": "stream",
       "stream": "stdout",
       "text": [
        ". . "
       ]
      },
      {
       "output_type": "stream",
       "stream": "stdout",
       "text": [
        ". . "
       ]
      },
      {
       "output_type": "stream",
       "stream": "stdout",
       "text": [
        ". . "
       ]
      },
      {
       "output_type": "stream",
       "stream": "stdout",
       "text": [
        ". . "
       ]
      },
      {
       "output_type": "stream",
       "stream": "stdout",
       "text": [
        ". . "
       ]
      },
      {
       "output_type": "stream",
       "stream": "stdout",
       "text": [
        ". . "
       ]
      },
      {
       "output_type": "stream",
       "stream": "stdout",
       "text": [
        ". . "
       ]
      },
      {
       "output_type": "stream",
       "stream": "stdout",
       "text": [
        ". . "
       ]
      },
      {
       "output_type": "stream",
       "stream": "stdout",
       "text": [
        ". . "
       ]
      },
      {
       "output_type": "stream",
       "stream": "stdout",
       "text": [
        ". . "
       ]
      },
      {
       "output_type": "stream",
       "stream": "stdout",
       "text": [
        ". . "
       ]
      },
      {
       "output_type": "stream",
       "stream": "stdout",
       "text": [
        ". . "
       ]
      },
      {
       "output_type": "stream",
       "stream": "stdout",
       "text": [
        ". . "
       ]
      },
      {
       "output_type": "stream",
       "stream": "stdout",
       "text": [
        ". . "
       ]
      },
      {
       "output_type": "stream",
       "stream": "stdout",
       "text": [
        ". . "
       ]
      },
      {
       "output_type": "stream",
       "stream": "stdout",
       "text": [
        ". . "
       ]
      },
      {
       "output_type": "stream",
       "stream": "stdout",
       "text": [
        ". . "
       ]
      },
      {
       "output_type": "stream",
       "stream": "stdout",
       "text": [
        ". . "
       ]
      },
      {
       "output_type": "stream",
       "stream": "stdout",
       "text": [
        ". . "
       ]
      },
      {
       "output_type": "stream",
       "stream": "stdout",
       "text": [
        ". . "
       ]
      },
      {
       "output_type": "stream",
       "stream": "stdout",
       "text": [
        ". . "
       ]
      },
      {
       "output_type": "stream",
       "stream": "stdout",
       "text": [
        ". . "
       ]
      },
      {
       "output_type": "stream",
       "stream": "stdout",
       "text": [
        ". . "
       ]
      },
      {
       "output_type": "stream",
       "stream": "stdout",
       "text": [
        ". . "
       ]
      },
      {
       "output_type": "stream",
       "stream": "stdout",
       "text": [
        ". . "
       ]
      },
      {
       "output_type": "stream",
       "stream": "stdout",
       "text": [
        ". . "
       ]
      },
      {
       "output_type": "stream",
       "stream": "stdout",
       "text": [
        ". . "
       ]
      },
      {
       "output_type": "stream",
       "stream": "stdout",
       "text": [
        ". . "
       ]
      },
      {
       "output_type": "stream",
       "stream": "stdout",
       "text": [
        ". . "
       ]
      },
      {
       "output_type": "stream",
       "stream": "stdout",
       "text": [
        ". . "
       ]
      },
      {
       "output_type": "stream",
       "stream": "stdout",
       "text": [
        ". . "
       ]
      },
      {
       "output_type": "stream",
       "stream": "stdout",
       "text": [
        ". . "
       ]
      },
      {
       "output_type": "stream",
       "stream": "stdout",
       "text": [
        ". . "
       ]
      },
      {
       "output_type": "stream",
       "stream": "stdout",
       "text": [
        ". . "
       ]
      },
      {
       "output_type": "stream",
       "stream": "stdout",
       "text": [
        ". . "
       ]
      },
      {
       "output_type": "stream",
       "stream": "stdout",
       "text": [
        ". . "
       ]
      },
      {
       "output_type": "stream",
       "stream": "stdout",
       "text": [
        ". . "
       ]
      },
      {
       "output_type": "stream",
       "stream": "stdout",
       "text": [
        ". . "
       ]
      },
      {
       "output_type": "stream",
       "stream": "stdout",
       "text": [
        ". . "
       ]
      },
      {
       "output_type": "stream",
       "stream": "stdout",
       "text": [
        ". . "
       ]
      },
      {
       "output_type": "stream",
       "stream": "stdout",
       "text": [
        ". . "
       ]
      },
      {
       "output_type": "stream",
       "stream": "stdout",
       "text": [
        ". . "
       ]
      },
      {
       "output_type": "stream",
       "stream": "stdout",
       "text": [
        ". . "
       ]
      },
      {
       "output_type": "stream",
       "stream": "stdout",
       "text": [
        ". . "
       ]
      },
      {
       "output_type": "stream",
       "stream": "stdout",
       "text": [
        ". . "
       ]
      },
      {
       "output_type": "stream",
       "stream": "stdout",
       "text": [
        ". . "
       ]
      },
      {
       "output_type": "stream",
       "stream": "stdout",
       "text": [
        ". . "
       ]
      },
      {
       "output_type": "stream",
       "stream": "stdout",
       "text": [
        ". . "
       ]
      },
      {
       "output_type": "stream",
       "stream": "stdout",
       "text": [
        ". . "
       ]
      },
      {
       "output_type": "stream",
       "stream": "stdout",
       "text": [
        ". . "
       ]
      },
      {
       "output_type": "stream",
       "stream": "stdout",
       "text": [
        ". . "
       ]
      },
      {
       "output_type": "stream",
       "stream": "stdout",
       "text": [
        ". . "
       ]
      },
      {
       "output_type": "stream",
       "stream": "stdout",
       "text": [
        ". . "
       ]
      },
      {
       "output_type": "stream",
       "stream": "stdout",
       "text": [
        ". . "
       ]
      },
      {
       "output_type": "stream",
       "stream": "stdout",
       "text": [
        ". . "
       ]
      },
      {
       "output_type": "stream",
       "stream": "stdout",
       "text": [
        ". . "
       ]
      },
      {
       "output_type": "stream",
       "stream": "stdout",
       "text": [
        ". . "
       ]
      },
      {
       "output_type": "stream",
       "stream": "stdout",
       "text": [
        ". . "
       ]
      },
      {
       "output_type": "stream",
       "stream": "stdout",
       "text": [
        ". . "
       ]
      },
      {
       "output_type": "stream",
       "stream": "stdout",
       "text": [
        ". . "
       ]
      },
      {
       "output_type": "stream",
       "stream": "stdout",
       "text": [
        ". . "
       ]
      },
      {
       "output_type": "stream",
       "stream": "stdout",
       "text": [
        ". . "
       ]
      },
      {
       "output_type": "stream",
       "stream": "stdout",
       "text": [
        ". . "
       ]
      },
      {
       "output_type": "stream",
       "stream": "stdout",
       "text": [
        ". . "
       ]
      },
      {
       "output_type": "stream",
       "stream": "stdout",
       "text": [
        ". . "
       ]
      },
      {
       "output_type": "stream",
       "stream": "stdout",
       "text": [
        ". . "
       ]
      },
      {
       "output_type": "stream",
       "stream": "stdout",
       "text": [
        ". . "
       ]
      },
      {
       "output_type": "stream",
       "stream": "stdout",
       "text": [
        ". . "
       ]
      },
      {
       "output_type": "stream",
       "stream": "stdout",
       "text": [
        ". . "
       ]
      },
      {
       "output_type": "stream",
       "stream": "stdout",
       "text": [
        ". . "
       ]
      },
      {
       "output_type": "stream",
       "stream": "stdout",
       "text": [
        ". . "
       ]
      },
      {
       "output_type": "stream",
       "stream": "stdout",
       "text": [
        ". . "
       ]
      },
      {
       "output_type": "stream",
       "stream": "stdout",
       "text": [
        ". . "
       ]
      },
      {
       "output_type": "stream",
       "stream": "stdout",
       "text": [
        ". . "
       ]
      },
      {
       "output_type": "stream",
       "stream": "stdout",
       "text": [
        ". . "
       ]
      },
      {
       "output_type": "stream",
       "stream": "stdout",
       "text": [
        ". . "
       ]
      },
      {
       "output_type": "stream",
       "stream": "stdout",
       "text": [
        ". . "
       ]
      },
      {
       "output_type": "stream",
       "stream": "stdout",
       "text": [
        ". . "
       ]
      },
      {
       "output_type": "stream",
       "stream": "stdout",
       "text": [
        ". . "
       ]
      },
      {
       "output_type": "stream",
       "stream": "stdout",
       "text": [
        ". . "
       ]
      },
      {
       "output_type": "stream",
       "stream": "stdout",
       "text": [
        ". . "
       ]
      },
      {
       "output_type": "stream",
       "stream": "stdout",
       "text": [
        ". . "
       ]
      },
      {
       "output_type": "stream",
       "stream": "stdout",
       "text": [
        ". . "
       ]
      },
      {
       "output_type": "stream",
       "stream": "stdout",
       "text": [
        ". . "
       ]
      },
      {
       "output_type": "stream",
       "stream": "stdout",
       "text": [
        ". . "
       ]
      },
      {
       "output_type": "stream",
       "stream": "stdout",
       "text": [
        ". . "
       ]
      },
      {
       "output_type": "stream",
       "stream": "stdout",
       "text": [
        ". . "
       ]
      },
      {
       "output_type": "stream",
       "stream": "stdout",
       "text": [
        ". . "
       ]
      },
      {
       "output_type": "stream",
       "stream": "stdout",
       "text": [
        ". . "
       ]
      },
      {
       "output_type": "stream",
       "stream": "stdout",
       "text": [
        ". . "
       ]
      },
      {
       "output_type": "stream",
       "stream": "stdout",
       "text": [
        ". . "
       ]
      },
      {
       "output_type": "stream",
       "stream": "stdout",
       "text": [
        ". . "
       ]
      },
      {
       "output_type": "stream",
       "stream": "stdout",
       "text": [
        ". . "
       ]
      },
      {
       "output_type": "stream",
       "stream": "stdout",
       "text": [
        ". . "
       ]
      },
      {
       "output_type": "stream",
       "stream": "stdout",
       "text": [
        ". . "
       ]
      },
      {
       "output_type": "stream",
       "stream": "stdout",
       "text": [
        ". . "
       ]
      },
      {
       "output_type": "stream",
       "stream": "stdout",
       "text": [
        ". . "
       ]
      },
      {
       "output_type": "stream",
       "stream": "stdout",
       "text": [
        ". . "
       ]
      },
      {
       "output_type": "stream",
       "stream": "stdout",
       "text": [
        ". . "
       ]
      },
      {
       "output_type": "stream",
       "stream": "stdout",
       "text": [
        ". . "
       ]
      },
      {
       "output_type": "stream",
       "stream": "stdout",
       "text": [
        ". . "
       ]
      },
      {
       "output_type": "stream",
       "stream": "stdout",
       "text": [
        ". . "
       ]
      },
      {
       "output_type": "stream",
       "stream": "stdout",
       "text": [
        ". . "
       ]
      },
      {
       "output_type": "stream",
       "stream": "stdout",
       "text": [
        ". . "
       ]
      },
      {
       "output_type": "stream",
       "stream": "stdout",
       "text": [
        ". . "
       ]
      },
      {
       "output_type": "stream",
       "stream": "stdout",
       "text": [
        ". . "
       ]
      },
      {
       "output_type": "stream",
       "stream": "stdout",
       "text": [
        ". . "
       ]
      },
      {
       "output_type": "stream",
       "stream": "stdout",
       "text": [
        ". . "
       ]
      },
      {
       "output_type": "stream",
       "stream": "stdout",
       "text": [
        ". . "
       ]
      },
      {
       "output_type": "stream",
       "stream": "stdout",
       "text": [
        ". . "
       ]
      },
      {
       "output_type": "stream",
       "stream": "stdout",
       "text": [
        ". . "
       ]
      },
      {
       "output_type": "stream",
       "stream": "stdout",
       "text": [
        ". . "
       ]
      },
      {
       "output_type": "stream",
       "stream": "stdout",
       "text": [
        ". . "
       ]
      },
      {
       "output_type": "stream",
       "stream": "stdout",
       "text": [
        ". . "
       ]
      },
      {
       "output_type": "stream",
       "stream": "stdout",
       "text": [
        ". . "
       ]
      },
      {
       "output_type": "stream",
       "stream": "stdout",
       "text": [
        ". . "
       ]
      },
      {
       "output_type": "stream",
       "stream": "stdout",
       "text": [
        ". . "
       ]
      },
      {
       "output_type": "stream",
       "stream": "stdout",
       "text": [
        ". . "
       ]
      },
      {
       "output_type": "stream",
       "stream": "stdout",
       "text": [
        ". . "
       ]
      },
      {
       "output_type": "stream",
       "stream": "stdout",
       "text": [
        ". . "
       ]
      },
      {
       "output_type": "stream",
       "stream": "stdout",
       "text": [
        ". . "
       ]
      },
      {
       "output_type": "stream",
       "stream": "stdout",
       "text": [
        ". . "
       ]
      },
      {
       "output_type": "stream",
       "stream": "stdout",
       "text": [
        ". . "
       ]
      },
      {
       "output_type": "stream",
       "stream": "stdout",
       "text": [
        ". . "
       ]
      },
      {
       "output_type": "stream",
       "stream": "stdout",
       "text": [
        ". . "
       ]
      },
      {
       "output_type": "stream",
       "stream": "stdout",
       "text": [
        ". . "
       ]
      },
      {
       "output_type": "stream",
       "stream": "stdout",
       "text": [
        ". . "
       ]
      },
      {
       "output_type": "stream",
       "stream": "stdout",
       "text": [
        ". . "
       ]
      },
      {
       "output_type": "stream",
       "stream": "stdout",
       "text": [
        ". . "
       ]
      },
      {
       "output_type": "stream",
       "stream": "stdout",
       "text": [
        ". . "
       ]
      },
      {
       "output_type": "stream",
       "stream": "stdout",
       "text": [
        ". . "
       ]
      },
      {
       "output_type": "stream",
       "stream": "stdout",
       "text": [
        ". . "
       ]
      },
      {
       "output_type": "stream",
       "stream": "stdout",
       "text": [
        ". . "
       ]
      },
      {
       "output_type": "stream",
       "stream": "stdout",
       "text": [
        ". . "
       ]
      },
      {
       "output_type": "stream",
       "stream": "stdout",
       "text": [
        ". . "
       ]
      },
      {
       "output_type": "stream",
       "stream": "stdout",
       "text": [
        ". . "
       ]
      },
      {
       "output_type": "stream",
       "stream": "stdout",
       "text": [
        ". . "
       ]
      },
      {
       "output_type": "stream",
       "stream": "stdout",
       "text": [
        ". . "
       ]
      },
      {
       "output_type": "stream",
       "stream": "stdout",
       "text": [
        ". . "
       ]
      },
      {
       "output_type": "stream",
       "stream": "stdout",
       "text": [
        ". . "
       ]
      },
      {
       "output_type": "stream",
       "stream": "stdout",
       "text": [
        ". . "
       ]
      },
      {
       "output_type": "stream",
       "stream": "stdout",
       "text": [
        ". . "
       ]
      },
      {
       "output_type": "stream",
       "stream": "stdout",
       "text": [
        ". . "
       ]
      },
      {
       "output_type": "stream",
       "stream": "stdout",
       "text": [
        ". . "
       ]
      },
      {
       "output_type": "stream",
       "stream": "stdout",
       "text": [
        ". . "
       ]
      },
      {
       "output_type": "stream",
       "stream": "stdout",
       "text": [
        ". . "
       ]
      },
      {
       "output_type": "stream",
       "stream": "stdout",
       "text": [
        ". . "
       ]
      },
      {
       "output_type": "stream",
       "stream": "stdout",
       "text": [
        ". . "
       ]
      },
      {
       "output_type": "stream",
       "stream": "stdout",
       "text": [
        ". . "
       ]
      },
      {
       "output_type": "stream",
       "stream": "stdout",
       "text": [
        ". . "
       ]
      },
      {
       "output_type": "stream",
       "stream": "stdout",
       "text": [
        ". . "
       ]
      },
      {
       "output_type": "stream",
       "stream": "stdout",
       "text": [
        ". . "
       ]
      },
      {
       "output_type": "stream",
       "stream": "stdout",
       "text": [
        ". . "
       ]
      },
      {
       "output_type": "stream",
       "stream": "stdout",
       "text": [
        ". . "
       ]
      },
      {
       "output_type": "stream",
       "stream": "stdout",
       "text": [
        ". . "
       ]
      },
      {
       "output_type": "stream",
       "stream": "stdout",
       "text": [
        ". . "
       ]
      },
      {
       "output_type": "stream",
       "stream": "stdout",
       "text": [
        ". . "
       ]
      },
      {
       "output_type": "stream",
       "stream": "stdout",
       "text": [
        ". . "
       ]
      },
      {
       "output_type": "stream",
       "stream": "stdout",
       "text": [
        ". . "
       ]
      },
      {
       "output_type": "stream",
       "stream": "stdout",
       "text": [
        ". . "
       ]
      },
      {
       "output_type": "stream",
       "stream": "stdout",
       "text": [
        ". . "
       ]
      },
      {
       "output_type": "stream",
       "stream": "stdout",
       "text": [
        ". . "
       ]
      },
      {
       "output_type": "stream",
       "stream": "stdout",
       "text": [
        ". . "
       ]
      },
      {
       "output_type": "stream",
       "stream": "stdout",
       "text": [
        ". . "
       ]
      },
      {
       "output_type": "stream",
       "stream": "stdout",
       "text": [
        ". . "
       ]
      },
      {
       "output_type": "stream",
       "stream": "stdout",
       "text": [
        ". . "
       ]
      },
      {
       "output_type": "stream",
       "stream": "stdout",
       "text": [
        ". . "
       ]
      },
      {
       "output_type": "stream",
       "stream": "stdout",
       "text": [
        ". . "
       ]
      },
      {
       "output_type": "stream",
       "stream": "stdout",
       "text": [
        ". . "
       ]
      },
      {
       "output_type": "stream",
       "stream": "stdout",
       "text": [
        ". . "
       ]
      },
      {
       "output_type": "stream",
       "stream": "stdout",
       "text": [
        ". . "
       ]
      },
      {
       "output_type": "stream",
       "stream": "stdout",
       "text": [
        ". . "
       ]
      },
      {
       "output_type": "stream",
       "stream": "stdout",
       "text": [
        ". . "
       ]
      },
      {
       "output_type": "stream",
       "stream": "stdout",
       "text": [
        ". . "
       ]
      },
      {
       "output_type": "stream",
       "stream": "stdout",
       "text": [
        ". . "
       ]
      },
      {
       "output_type": "stream",
       "stream": "stdout",
       "text": [
        ". . "
       ]
      },
      {
       "output_type": "stream",
       "stream": "stdout",
       "text": [
        ". . "
       ]
      },
      {
       "output_type": "stream",
       "stream": "stdout",
       "text": [
        ". . "
       ]
      },
      {
       "output_type": "stream",
       "stream": "stdout",
       "text": [
        ". . "
       ]
      },
      {
       "output_type": "stream",
       "stream": "stdout",
       "text": [
        ". . "
       ]
      },
      {
       "output_type": "stream",
       "stream": "stdout",
       "text": [
        ". . "
       ]
      },
      {
       "output_type": "stream",
       "stream": "stdout",
       "text": [
        ". . "
       ]
      },
      {
       "output_type": "stream",
       "stream": "stdout",
       "text": [
        ". . "
       ]
      },
      {
       "output_type": "stream",
       "stream": "stdout",
       "text": [
        ". . "
       ]
      },
      {
       "output_type": "stream",
       "stream": "stdout",
       "text": [
        ". . "
       ]
      },
      {
       "output_type": "stream",
       "stream": "stdout",
       "text": [
        ". . "
       ]
      },
      {
       "output_type": "stream",
       "stream": "stdout",
       "text": [
        ". . "
       ]
      },
      {
       "output_type": "stream",
       "stream": "stdout",
       "text": [
        ". "
       ]
      },
      {
       "output_type": "stream",
       "stream": "stdout",
       "text": [
        ". . "
       ]
      },
      {
       "output_type": "stream",
       "stream": "stdout",
       "text": [
        ". . "
       ]
      },
      {
       "output_type": "stream",
       "stream": "stdout",
       "text": [
        ". . "
       ]
      },
      {
       "output_type": "stream",
       "stream": "stdout",
       "text": [
        ". . "
       ]
      },
      {
       "output_type": "stream",
       "stream": "stdout",
       "text": [
        ". . "
       ]
      },
      {
       "output_type": "stream",
       "stream": "stdout",
       "text": [
        ". . "
       ]
      },
      {
       "output_type": "stream",
       "stream": "stdout",
       "text": [
        ". . "
       ]
      },
      {
       "output_type": "stream",
       "stream": "stdout",
       "text": [
        ". . "
       ]
      },
      {
       "output_type": "stream",
       "stream": "stdout",
       "text": [
        ". . "
       ]
      },
      {
       "output_type": "stream",
       "stream": "stdout",
       "text": [
        "(0.08888888888888889, 4.0) Final Accuracy\n"
       ]
      }
     ],
     "prompt_number": 145
    },
    {
     "cell_type": "code",
     "collapsed": false,
     "input": [
      "plot([x[0] for x in res[0]])"
     ],
     "language": "python",
     "metadata": {},
     "outputs": [
      {
       "metadata": {},
       "output_type": "pyout",
       "prompt_number": 148,
       "text": [
        "[<matplotlib.lines.Line2D at 0xcaefccc>]"
       ]
      }
     ],
     "prompt_number": 148
    },
    {
     "cell_type": "code",
     "collapsed": false,
     "input": [
      "r.learner.net.weights"
     ],
     "language": "python",
     "metadata": {},
     "outputs": [
      {
       "metadata": {},
       "output_type": "pyout",
       "prompt_number": 138,
       "text": [
        "[array([[ -2.28603158e-05,  -1.94237314e-03,  -3.77452509e-03,\n",
        "          4.43774027e-03,   2.13843645e-03],\n",
        "       [ -4.56064185e-03,   4.87608200e-03,  -2.35771751e-03,\n",
        "         -2.41323256e-03,  -3.39522522e-03],\n",
        "       [ -3.28604528e-04,   5.05813970e-04,  -3.81973569e-04,\n",
        "          3.35162747e-03,  -1.92098063e-03],\n",
        "       [  4.52506381e-03,   1.67023703e-03,   1.79563613e-03,\n",
        "          4.93326734e-03,   7.82687172e-04]]),\n",
        " array([[-0.00434907, -0.00322491, -0.00176679, -0.00170602,  0.00184762],\n",
        "       [ 0.00115022,  0.00198137,  0.00243498, -0.0017766 , -0.00416615],\n",
        "       [-0.00039062, -0.00403677,  0.00367578,  0.00206333,  0.00322613],\n",
        "       [ 0.00196415,  0.00112405, -0.00262784, -0.00143985,  0.00206487]]),\n",
        " array([[ 0.00021825,  0.00773655,  0.0095278 , -0.00481218,  0.01080083],\n",
        "       [-0.00604357, -0.00791328,  0.0040196 ,  0.00044787,  0.01096862],\n",
        "       [ 0.00161658,  0.00933961, -0.00419336,  0.00707606, -0.00558322],\n",
        "       [ 0.00656227, -0.00075808, -0.001761  , -0.00603175,  0.0107288 ]]),\n",
        " array([[-0.17068727, -0.17343906, -0.17179853, -0.16938448, -0.34148283],\n",
        "       [-0.12504607, -0.13074062, -0.12935032, -0.12841668, -0.25462754],\n",
        "       [-0.22670066, -0.22744982, -0.22566847, -0.22800497, -0.45559303]])]"
       ]
      }
     ],
     "prompt_number": 138
    },
    {
     "cell_type": "code",
     "collapsed": false,
     "input": [
      "lines = []\n",
      "i = 0\n",
      "for err, weights in res[0]:\n",
      "    line = []\n",
      "    for l in weights:\n",
      "        line += list(l.flatten())\n",
      "    lines.append(line)\n",
      "allz = n.array(lines)\n",
      "plot(allz)"
     ],
     "language": "python",
     "metadata": {},
     "outputs": [
      {
       "metadata": {},
       "output_type": "pyout",
       "prompt_number": 149,
       "text": [
        "[<matplotlib.lines.Line2D at 0xb34308c>,\n",
        " <matplotlib.lines.Line2D at 0xcc3584c>,\n",
        " <matplotlib.lines.Line2D at 0xcc359ac>,\n",
        " <matplotlib.lines.Line2D at 0xcc35b0c>,\n",
        " <matplotlib.lines.Line2D at 0xcc35c6c>,\n",
        " <matplotlib.lines.Line2D at 0xcc35dcc>,\n",
        " <matplotlib.lines.Line2D at 0xcacbaec>,\n",
        " <matplotlib.lines.Line2D at 0xcc370ac>,\n",
        " <matplotlib.lines.Line2D at 0xcc3722c>,\n",
        " <matplotlib.lines.Line2D at 0xcc373ac>,\n",
        " <matplotlib.lines.Line2D at 0xcc3752c>,\n",
        " <matplotlib.lines.Line2D at 0xcc376ac>,\n",
        " <matplotlib.lines.Line2D at 0xcc3782c>,\n",
        " <matplotlib.lines.Line2D at 0xcc35f0c>,\n",
        " <matplotlib.lines.Line2D at 0xcc37b2c>]"
       ]
      }
     ],
     "prompt_number": 149
    },
    {
     "cell_type": "code",
     "collapsed": false,
     "input": [
      "res"
     ],
     "language": "python",
     "metadata": {},
     "outputs": [
      {
       "metadata": {},
       "output_type": "pyout",
       "prompt_number": 125,
       "text": [
        "([(0.35303777166954448,\n",
        "   [array([[  5.81862368e-04,   3.15633329e-04,   3.23367902e-04,\n",
        "          1.04003959e-03,   5.91348302e-06],\n",
        "       [  4.12847442e-04,   2.92037057e-04,   6.15684734e-06,\n",
        "          1.34064451e-04,   3.61745691e-04],\n",
        "       [  8.11240474e-04,   3.50832895e-04,   4.49742819e-04,\n",
        "          7.09983550e-04,   4.88790214e-04],\n",
        "       [  1.23487630e-04,   9.53277889e-04,   1.02713459e-03,\n",
        "          4.25786825e-04,   3.48658324e-04],\n",
        "       [  9.26867387e-04,   6.75404383e-05,   4.80761192e-04,\n",
        "          9.21034014e-04,   2.59095915e-04],\n",
        "       [  6.40343972e-04,   2.42091228e-04,   9.15019777e-04,\n",
        "          4.82053020e-04,   8.43683109e-04],\n",
        "       [  6.17704084e-04,   3.47923198e-04,   8.30032559e-04,\n",
        "          4.47991101e-04,   5.14204096e-05],\n",
        "       [  5.70718312e-04,   2.46570899e-04,   1.54454520e-04,\n",
        "          3.91731859e-04,   1.05899287e-03],\n",
        "       [  3.94860519e-04,   7.04950011e-04,   4.91032676e-04,\n",
        "          8.34530570e-04,   7.22571577e-04],\n",
        "       [  5.66228109e-04,   7.84513547e-04,   5.77173123e-04,\n",
        "          2.57038855e-04,   1.64783783e-04]]),\n",
        "    array([[-0.06482402, -0.06449173, -0.06532212, -0.06466998, -0.06535454,\n",
        "        -0.06479855, -0.06460576, -0.06511899, -0.06493428, -0.06496614,\n",
        "        -0.12975839],\n",
        "       [-0.05405416, -0.05473736, -0.05459512, -0.05456999, -0.05486521,\n",
        "        -0.05406329, -0.05400828, -0.05408049, -0.05430793, -0.05456711,\n",
        "        -0.10927125],\n",
        "       [-0.07547946, -0.07549055, -0.07505216, -0.07527145, -0.07506741,\n",
        "        -0.07567516, -0.07569491, -0.07506826, -0.07518503, -0.07524341,\n",
        "        -0.15103405]])]),\n",
        "  (0.33666821288004534,\n",
        "   [array([[  5.99634203e-04,   3.23965634e-04,   3.34916526e-04,\n",
        "          1.07616811e-03,   6.31193004e-06],\n",
        "       [  4.25359465e-04,   2.99832724e-04,   6.37396376e-06,\n",
        "          1.38665597e-04,   3.86111191e-04],\n",
        "       [  8.36338527e-04,   3.60076083e-04,   4.66053867e-04,\n",
        "          7.35099882e-04,   5.21736891e-04],\n",
        "       [  1.27253000e-04,   9.78583428e-04,   1.06367508e-03,\n",
        "          4.40539184e-04,   3.72127032e-04],\n",
        "       [  9.55552932e-04,   6.93245240e-05,   4.98190996e-04,\n",
        "          9.53620041e-04,   2.76567970e-04],\n",
        "       [  6.59863205e-04,   2.48495730e-04,   9.47607264e-04,\n",
        "          4.98741868e-04,   9.00592256e-04],\n",
        "       [  6.36455933e-04,   3.57138562e-04,   8.59438562e-04,\n",
        "          4.63412663e-04,   5.48860134e-05],\n",
        "       [  5.88308629e-04,   2.53045171e-04,   1.60037191e-04,\n",
        "          4.05526015e-04,   1.13029068e-03],\n",
        "       [  4.06975693e-04,   7.23551809e-04,   5.08661528e-04,\n",
        "          8.63715195e-04,   7.71224210e-04],\n",
        "       [  5.83592541e-04,   8.05280576e-04,   5.97862856e-04,\n",
        "          2.66016396e-04,   1.75886324e-04]]),\n",
        "    array([[-0.08924838, -0.08886057, -0.0897493 , -0.08908133, -0.08979647,\n",
        "        -0.08923676, -0.08902689, -0.08951992, -0.08935578, -0.08936223,\n",
        "        -0.17845732],\n",
        "       [-0.06108843, -0.06177979, -0.06163166, -0.06161256, -0.06189547,\n",
        "        -0.06109701, -0.06104197, -0.06112167, -0.06134996, -0.06161051,\n",
        "        -0.1233482 ],\n",
        "       [-0.10861412, -0.10866365, -0.10819855, -0.10842636, -0.10819888,\n",
        "        -0.10882485, -0.10883478, -0.10824126, -0.10834099, -0.10840123,\n",
        "        -0.21737899]])]),\n",
        "  (0.33584931318520739,\n",
        "   [array([[  6.05640533e-04,   3.27230563e-04,   3.38596159e-04,\n",
        "          1.08484996e-03,   6.51995282e-06],\n",
        "       [  4.29515059e-04,   3.02952205e-04,   6.44097987e-06,\n",
        "          1.39722934e-04,   3.98843322e-04],\n",
        "       [  8.45053615e-04,   3.63703280e-04,   4.71430650e-04,\n",
        "          7.41491060e-04,   5.38994331e-04],\n",
        "       [  1.28524223e-04,   9.88634810e-04,   1.07523450e-03,\n",
        "          4.44060124e-04,   3.84403516e-04],\n",
        "       [  9.65536136e-04,   7.00272253e-05,   5.03944174e-04,\n",
        "          9.61938844e-04,   2.85725688e-04],\n",
        "       [  6.66419227e-04,   2.51006486e-04,   9.57905466e-04,\n",
        "          5.02697782e-04,   9.30281867e-04],\n",
        "       [  6.42706098e-04,   3.60761152e-04,   8.68628931e-04,\n",
        "          4.67003723e-04,   5.66932486e-05],\n",
        "       [  5.94357824e-04,   2.55573204e-04,   1.61858727e-04,\n",
        "          4.08972433e-04,   1.16757969e-03],\n",
        "       [  4.11113818e-04,   7.30867109e-04,   5.14346899e-04,\n",
        "          8.70882169e-04,   7.96673605e-04],\n",
        "       [  5.89507884e-04,   8.13488574e-04,   6.04499174e-04,\n",
        "          2.68206244e-04,   1.81694540e-04]]),\n",
        "    array([[-0.1020484 , -0.1016071 , -0.10254941, -0.10186606, -0.10261223,\n",
        "        -0.10204599, -0.10182353, -0.10229326, -0.10214876, -0.10213362,\n",
        "        -0.20391997],\n",
        "       [-0.07141161, -0.07211066, -0.07195833, -0.07194511, -0.07221535,\n",
        "        -0.07142163, -0.07136459, -0.07145351, -0.07168284, -0.07194311,\n",
        "        -0.14399863],\n",
        "       [-0.11059431, -0.11068473, -0.11018191, -0.11041851, -0.11017103,\n",
        "        -0.11080584, -0.11081926, -0.1102476 , -0.11032907, -0.11040167,\n",
        "        -0.22144251]])]),\n",
        "  (0.33525954757977816,\n",
        "   [array([[  6.10931974e-04,   3.28712090e-04,   3.42420116e-04,\n",
        "          1.09510737e-03,   6.65812109e-06],\n",
        "       [  4.33139908e-04,   3.04424045e-04,   6.51021613e-06,\n",
        "          1.40971627e-04,   4.07289655e-04],\n",
        "       [  8.52729877e-04,   3.65330206e-04,   4.76984080e-04,\n",
        "          7.48920369e-04,   5.50414539e-04],\n",
        "       [  1.29639718e-04,   9.93286425e-04,   1.08720933e-03,\n",
        "          4.48208703e-04,   3.92543390e-04],\n",
        "       [  9.74328680e-04,   7.03432477e-05,   5.09887128e-04,\n",
        "          9.71607334e-04,   2.91779513e-04],\n",
        "       [  6.72192283e-04,   2.52149719e-04,   9.68618808e-04,\n",
        "          5.07387644e-04,   9.50012606e-04],\n",
        "       [  6.48203774e-04,   3.62423546e-04,   8.78196291e-04,\n",
        "          4.71276830e-04,   5.78949630e-05],\n",
        "       [  5.99684906e-04,   2.56707466e-04,   1.63741679e-04,\n",
        "          4.12992391e-04,   1.19231585e-03],\n",
        "       [  4.14756561e-04,   7.34188008e-04,   5.20236532e-04,\n",
        "          8.79288609e-04,   8.13550243e-04],\n",
        "       [  5.94697707e-04,   8.17249477e-04,   6.11353884e-04,\n",
        "          2.70767919e-04,   1.85543300e-04]]),\n",
        "    array([[-0.10587879, -0.10538594, -0.10637755, -0.10567915, -0.10645675,\n",
        "        -0.10588145, -0.10565043, -0.10609418, -0.10596846, -0.10593523,\n",
        "        -0.21145444],\n",
        "       [-0.07089623, -0.07160461, -0.07144343, -0.07143642, -0.07169477,\n",
        "        -0.07090264, -0.0708484 , -0.0709429 , -0.07117255, -0.07143651,\n",
        "        -0.1429837 ],\n",
        "       [-0.11626709, -0.11639848, -0.11585898, -0.11610444, -0.11583626,\n",
        "        -0.11648125, -0.11649646, -0.11594837, -0.11601157, -0.11609526,\n",
        "        -0.23288858]])]),\n",
        "  (0.33479464428422545,\n",
        "   [array([[  6.10771176e-04,   3.30658908e-04,   3.41999378e-04,\n",
        "          1.09166364e-03,   6.76740356e-06],\n",
        "       [  4.32866210e-04,   3.06323171e-04,   6.49808193e-06,\n",
        "          1.40441974e-04,   4.13936276e-04],\n",
        "       [  8.52815917e-04,   3.67483931e-04,   4.76637026e-04,\n",
        "          7.46996908e-04,   5.59478009e-04],\n",
        "       [  1.29594888e-04,   9.99347515e-04,   1.08566698e-03,\n",
        "          4.46732882e-04,   3.98973183e-04],\n",
        "       [  9.74465368e-04,   7.07602978e-05,   5.09535759e-04,\n",
        "          9.69167755e-04,   2.96585877e-04],\n",
        "       [  6.71960383e-04,   2.53647735e-04,   9.67315477e-04,\n",
        "          5.05724733e-04,   9.65605124e-04],\n",
        "       [  6.47903425e-04,   3.64593800e-04,   8.76856007e-04,\n",
        "          4.69642710e-04,   5.88434109e-05],\n",
        "       [  5.99652384e-04,   2.58212669e-04,   1.63590602e-04,\n",
        "          4.11832965e-04,   1.21191851e-03],\n",
        "       [  4.14695824e-04,   7.38560428e-04,   5.19671458e-04,\n",
        "          8.76682907e-04,   8.26912785e-04],\n",
        "       [  5.94566489e-04,   8.22177199e-04,   6.10608449e-04,\n",
        "          2.69931817e-04,   1.88586465e-04]]),\n",
        "    array([[-0.11619549, -0.11564904, -0.11669395, -0.11598005, -0.11678912,\n",
        "        -0.11620662, -0.11596374, -0.11638336, -0.11627732, -0.1162231 ,\n",
        "        -0.23195139],\n",
        "       [-0.06791303, -0.06863083, -0.06845999, -0.06845917, -0.068706  ,\n",
        "        -0.06791466, -0.06786434, -0.06796339, -0.06819326, -0.06846178,\n",
        "        -0.13703522],\n",
        "       [-0.11284814, -0.11302085, -0.11244158, -0.11269583, -0.11240835,\n",
        "        -0.11306048, -0.11308161, -0.11255331, -0.11259799, -0.11269594,\n",
        "        -0.22615881]])]),\n",
        "  (0.33546748722569891,\n",
        "   [array([[  6.16245462e-04,   3.29725420e-04,   3.46684401e-04,\n",
        "          1.10494639e-03,   6.84416904e-06],\n",
        "       [  4.36604498e-04,   3.05583165e-04,   6.58311325e-06,\n",
        "          1.42066835e-04,   4.18667491e-04],\n",
        "       [  8.60736135e-04,   3.66427262e-04,   4.83383902e-04,\n",
        "          7.56485370e-04,   5.65810037e-04],\n",
        "       [  1.30749073e-04,   9.96740518e-04,   1.10035569e-03,\n",
        "          4.52111083e-04,   4.03514489e-04],\n",
        "       [  9.83558875e-04,   7.05587674e-05,   5.16772703e-04,\n",
        "          9.81544522e-04,   2.99942539e-04],\n",
        "       [  6.77936942e-04,   2.52936442e-04,   9.80470394e-04,\n",
        "          5.11819365e-04,   9.76572498e-04],\n",
        "       [  6.53596443e-04,   3.63596213e-04,   8.88628660e-04,\n",
        "          4.75215901e-04,   5.95124403e-05],\n",
        "       [  6.05129935e-04,   2.57466537e-04,   1.65873901e-04,\n",
        "          4.16962939e-04,   1.22564611e-03],\n",
        "       [  4.18458664e-04,   7.36499430e-04,   5.26859975e-04,\n",
        "          8.87501980e-04,   8.36294403e-04],\n",
        "       [  5.99916290e-04,   8.19966815e-04,   6.18965922e-04,\n",
        "          2.73225415e-04,   1.90729588e-04]]),\n",
        "    array([[-0.10922087, -0.1086254 , -0.10971406, -0.10898584, -0.10982641,\n",
        "        -0.10923169, -0.10898543, -0.10937571, -0.10928751, -0.10921967,\n",
        "        -0.21789003],\n",
        "       [-0.07232471, -0.07305163, -0.07287366, -0.07287904, -0.07311326,\n",
        "        -0.07232516, -0.07227538, -0.07238209, -0.07261241, -0.07288289,\n",
        "        -0.14587   ],\n",
        "       [-0.11744692, -0.11766089, -0.11704433, -0.11730738, -0.11699939,\n",
        "        -0.11766147, -0.11768479, -0.11717984, -0.117206  , -0.1173154 ,\n",
        "        -0.23545837]])]),\n",
        "  (0.33532277215026629,\n",
        "   [array([[  6.17077619e-04,   3.30332284e-04,   3.47405998e-04,\n",
        "          1.10504363e-03,   6.92237498e-06],\n",
        "       [  4.37008436e-04,   3.06260305e-04,   6.59196351e-06,\n",
        "          1.41976758e-04,   4.23429421e-04],\n",
        "       [  8.62197385e-04,   3.67089351e-04,   4.84622023e-04,\n",
        "          7.56972121e-04,   5.72293171e-04],\n",
        "       [  1.30912963e-04,   9.98777989e-04,   1.10240362e-03,\n",
        "          4.52069578e-04,   4.08119974e-04],\n",
        "       [  9.85289389e-04,   7.06876102e-05,   5.18134774e-04,\n",
        "          9.82269817e-04,   3.03380998e-04],\n",
        "       [  6.78800959e-04,   2.53405562e-04,   9.82405979e-04,\n",
        "          5.11801189e-04,   9.87731435e-04],\n",
        "       [  6.54349157e-04,   3.64292140e-04,   8.90212869e-04,\n",
        "          4.75103228e-04,   6.01914039e-05],\n",
        "       [  6.06041964e-04,   2.57929906e-04,   1.66256932e-04,\n",
        "          4.17105550e-04,   1.23966831e-03],\n",
        "       [  4.19065811e-04,   7.37886221e-04,   5.28017674e-04,\n",
        "          8.87716651e-04,   8.45858791e-04],\n",
        "       [  6.00727994e-04,   8.21586313e-04,   6.20219031e-04,\n",
        "          2.73246035e-04,   1.92907677e-04]]),\n",
        "    array([[-0.11380507, -0.11315705, -0.11429636, -0.11355291, -0.11442525,\n",
        "        -0.11382159, -0.11356615, -0.11393035, -0.11386139, -0.11377481,\n",
        "        -0.22692901],\n",
        "       [-0.07100571, -0.07174212, -0.07155491, -0.07156646, -0.07178889,\n",
        "        -0.07100213, -0.07095552, -0.07106761, -0.07129813, -0.07157261,\n",
        "        -0.14324872],\n",
        "       [-0.11437537, -0.11463101, -0.1139744 , -0.11424637, -0.11391875,\n",
        "        -0.11458821, -0.11461737, -0.11413254, -0.11414005, -0.11426371,\n",
        "        -0.22942394]])]),\n",
        "  (0.33501371103358435,\n",
        "   [array([[  6.21861350e-04,   3.30845716e-04,   3.50960877e-04,\n",
        "          1.11492164e-03,   7.00959870e-06],\n",
        "       [  4.40198914e-04,   3.06861720e-04,   6.65423751e-06,\n",
        "          1.43135657e-04,   4.28758398e-04],\n",
        "       [  8.69152652e-04,   3.67635793e-04,   4.89797587e-04,\n",
        "          7.64136580e-04,   5.79476945e-04],\n",
        "       [  1.31913104e-04,   1.00053226e-03,   1.11341786e-03,\n",
        "          4.56019589e-04,   4.13250879e-04],\n",
        "       [  9.93299395e-04,   7.07929739e-05,   5.23711005e-04,\n",
        "          9.91669655e-04,   3.07184420e-04],\n",
        "       [  6.84018432e-04,   2.53804279e-04,   9.92364730e-04,\n",
        "          5.16318643e-04,   1.00019417e-03],\n",
        "       [  6.59298490e-04,   3.64890770e-04,   8.99063724e-04,\n",
        "          4.79198729e-04,   6.09509023e-05],\n",
        "       [  6.10817826e-04,   2.58321175e-04,   1.67989161e-04,\n",
        "          4.20922695e-04,   1.25527494e-03],\n",
        "       [  4.22349894e-04,   7.39057762e-04,   5.33471638e-04,\n",
        "          8.95772489e-04,   8.56498294e-04],\n",
        "       [  6.05368120e-04,   8.22974597e-04,   6.26503759e-04,\n",
        "          2.75673294e-04,   1.95332256e-04]]),\n",
        "    array([[-0.11300574, -0.11230642, -0.11349361, -0.11273528, -0.11363943,\n",
        "        -0.11302522, -0.11276323, -0.11309964, -0.11304947, -0.1129464 ,\n",
        "        -0.225208  ],\n",
        "       [-0.06626075, -0.06700725, -0.06680912, -0.06682696, -0.06703788,\n",
        "        -0.06625136, -0.06620963, -0.06632581, -0.06655625, -0.06683611,\n",
        "        -0.13377984],\n",
        "       [-0.11945643, -0.11975405, -0.1190596 , -0.1193405 , -0.11899195,\n",
        "        -0.11967169, -0.11970291, -0.11924203, -0.11923068, -0.11936584,\n",
        "        -0.23968939]])]),\n",
        "  (0.33544665520709427,\n",
        "   [array([[  6.21840059e-04,   3.30099574e-04,   3.51776536e-04,\n",
        "          1.11428166e-03,   7.06951845e-06],\n",
        "       [  4.39981999e-04,   3.06310532e-04,   6.66429471e-06,\n",
        "          1.42938182e-04,   4.32439723e-04],\n",
        "       [  8.69444706e-04,   3.66809433e-04,   4.91180679e-04,\n",
        "          7.64135190e-04,   5.84496364e-04],\n",
        "       [  1.31897474e-04,   9.98534223e-04,   1.11575973e-03,\n",
        "          4.55673926e-04,   4.16814885e-04],\n",
        "       [  9.93729596e-04,   7.06351545e-05,   5.25254737e-04,\n",
        "          9.91812934e-04,   3.09856555e-04],\n",
        "       [  6.83941612e-04,   2.53232168e-04,   9.94566031e-04,\n",
        "          5.15959213e-04,   1.00872699e-03],\n",
        "       [  6.59138539e-04,   3.64092412e-04,   9.00873863e-04,\n",
        "          4.78762074e-04,   6.14698015e-05],\n",
        "       [  6.10866157e-04,   2.57736741e-04,   1.68405995e-04,\n",
        "          4.20755768e-04,   1.26604249e-03],\n",
        "       [  4.22379102e-04,   7.37447391e-04,   5.34769889e-04,\n",
        "          8.95387772e-04,   8.63873314e-04],\n",
        "       [  6.05343515e-04,   8.21280229e-04,   6.27903411e-04,\n",
        "          2.75501157e-04,   1.97016111e-04]]),\n",
        "    array([[-0.11414158, -0.11339001, -0.11462658, -0.1138532 , -0.11478934,\n",
        "        -0.11416508, -0.11389551, -0.11420446, -0.1141735 , -0.11405297,\n",
        "        -0.22735365],\n",
        "       [-0.07762815, -0.07838292, -0.07818068, -0.0782044 , -0.07840218,\n",
        "        -0.07762121, -0.07757651, -0.07770327, -0.07793445, -0.07821342,\n",
        "        -0.15651844],\n",
        "       [-0.10925556, -0.10959535, -0.10885806, -0.10914799, -0.10878065,\n",
        "        -0.10946532, -0.10950589, -0.1090621 , -0.1090319 , -0.10918406,\n",
        "        -0.21940293]])]),\n",
        "  (0.33526593603171756,\n",
        "   [array([[  6.24755681e-04,   3.30396335e-04,   3.54235649e-04,\n",
        "          1.12038140e-03,   7.14893089e-06],\n",
        "       [  4.41807653e-04,   3.06722067e-04,   6.70474997e-06,\n",
        "          1.43589607e-04,   4.37280336e-04],\n",
        "       [  8.73793828e-04,   3.67117830e-04,   4.94831034e-04,\n",
        "          7.68714034e-04,   5.91040445e-04],\n",
        "       [  1.32497199e-04,   9.99647940e-04,   1.12323810e-03,\n",
        "          4.58054616e-04,   4.21482305e-04],\n",
        "       [  9.98788828e-04,   7.06936959e-05,   5.29222910e-04,\n",
        "          9.97901714e-04,   3.13321756e-04],\n",
        "       [  6.87104286e-04,   2.53463327e-04,   1.00142806e-03,\n",
        "          5.18727965e-04,   1.02007212e-03],\n",
        "       [  6.62098702e-04,   3.64451856e-04,   9.06899156e-04,\n",
        "          4.81224429e-04,   6.21609036e-05],\n",
        "       [  6.13778615e-04,   2.57965923e-04,   1.69601661e-04,\n",
        "          4.23113780e-04,   1.28025362e-03],\n",
        "       [  4.24387601e-04,   7.38144200e-04,   5.38543991e-04,\n",
        "          9.00382869e-04,   8.73559928e-04],\n",
        "       [  6.08138036e-04,   8.22149995e-04,   6.32185723e-04,\n",
        "          2.76973385e-04,   1.99222013e-04]]),\n",
        "    array([[-0.11482946, -0.11402567, -0.11531154, -0.11452316, -0.11549127,\n",
        "        -0.11485682, -0.11457987, -0.11486115, -0.11484942, -0.11471164,\n",
        "        -0.22860368],\n",
        "       [-0.07221573, -0.07298075, -0.07276722, -0.0727972 , -0.07298356,\n",
        "        -0.07220258, -0.0721631 , -0.07229378, -0.07252478, -0.07280944,\n",
        "        -0.14571541],\n",
        "       [-0.11258819, -0.11297014, -0.11219422, -0.11249311, -0.112105  ,\n",
        "        -0.1127994 , -0.11284288, -0.11242239, -0.11237325, -0.11253755,\n",
        "        -0.22617324]])]),\n",
        "  (0.33509459786635742,\n",
        "   [array([[  6.26211922e-04,   3.31249332e-04,   3.55282942e-04,\n",
        "          1.12143738e-03,   7.22907022e-06],\n",
        "       [  4.42585468e-04,   3.07658077e-04,   6.71808145e-06,\n",
        "          1.43586058e-04,   4.42165832e-04],\n",
        "       [  8.76131292e-04,   3.68056628e-04,   4.96527964e-04,\n",
        "          7.69859450e-04,   5.97690180e-04],\n",
        "       [  1.32788028e-04,   1.00247231e-03,   1.12623659e-03,\n",
        "          4.58372125e-04,   4.26208555e-04],\n",
        "       [  1.00157428e-03,   7.08738688e-05,   5.31120796e-04,\n",
        "          9.99569787e-04,   3.16851643e-04],\n",
        "       [  6.88658234e-04,   2.54119308e-04,   1.00429347e-03,\n",
        "          5.19158826e-04,   1.03150620e-03],\n",
        "       [  6.63502046e-04,   3.65421290e-04,   9.09292614e-04,\n",
        "          4.81511739e-04,   6.28565886e-05],\n",
        "       [  6.15246173e-04,   2.58634597e-04,   1.70115929e-04,\n",
        "          4.23551745e-04,   1.29461306e-03],\n",
        "       [  4.25407654e-04,   7.40100559e-04,   5.40172952e-04,\n",
        "          9.01325581e-04,   8.83366706e-04],\n",
        "       [  6.09510817e-04,   8.24429156e-04,   6.33940329e-04,\n",
        "          2.77194891e-04,   2.01455795e-04]]),\n",
        "    array([[-0.11774448, -0.11688787, -0.11822442, -0.11742079, -0.11842099,\n",
        "        -0.11777708, -0.11749145, -0.11774588, -0.11775356, -0.11759741,\n",
        "        -0.23430477],\n",
        "       [-0.07375168, -0.07452545, -0.07430421, -0.07434016, -0.07451471,\n",
        "        -0.07373587, -0.07369817, -0.07383517, -0.07406667, -0.07435406,\n",
        "        -0.14880004],\n",
        "       [-0.10888515, -0.10930993, -0.10849242, -0.10880045, -0.10839233,\n",
        "        -0.10909403, -0.10914397, -0.10874379, -0.10867543, -0.10885468,\n",
        "        -0.21887941]])]),\n",
        "  (0.33512990613000965,\n",
        "   [array([[  6.33213351e-04,   3.30279805e-04,   3.61453761e-04,\n",
        "          1.14043811e-03,   7.30586094e-06],\n",
        "       [  4.47298876e-04,   3.06928838e-04,   6.82837625e-06,\n",
        "          1.45880629e-04,   4.46929222e-04],\n",
        "       [  8.86182102e-04,   3.66955083e-04,   5.05357608e-04,\n",
        "          7.83282367e-04,   6.03992408e-04],\n",
        "       [  1.34255661e-04,   9.99798997e-04,   1.14547554e-03,\n",
        "          4.66023312e-04,   4.30752428e-04],\n",
        "       [  1.01316606e-03,   7.06595448e-05,   5.40644251e-04,\n",
        "          1.01717237e-03,   3.20182102e-04],\n",
        "       [  6.96320615e-04,   2.53378248e-04,   1.02166118e-03,\n",
        "          5.27907129e-04,   1.04248671e-03],\n",
        "       [  6.70798254e-04,   3.64389816e-04,   9.24822538e-04,\n",
        "          4.89515600e-04,   6.35275886e-05],\n",
        "       [  6.22149852e-04,   2.57881943e-04,   1.73078530e-04,\n",
        "          4.30754413e-04,   1.30836567e-03],\n",
        "       [  4.30189531e-04,   7.37979174e-04,   5.49583383e-04,\n",
        "          9.16677761e-04,   8.92741386e-04],\n",
        "       [  6.16273594e-04,   8.22189774e-04,   6.44819505e-04,\n",
        "          2.81843526e-04,   2.03600979e-04]]),\n",
        "    array([[-0.10753921, -0.10663296, -0.10801291, -0.10719512, -0.10822733,\n",
        "        -0.10756977, -0.10728245, -0.10750537, -0.10753144, -0.10736289,\n",
        "        -0.21378338],\n",
        "       [-0.07455042, -0.07533403, -0.07510387, -0.075146  , -0.07530833,\n",
        "        -0.07453161, -0.07449614, -0.07463969, -0.07487122, -0.07516199,\n",
        "        -0.15041331],\n",
        "       [-0.11835351, -0.11882094, -0.1179663 , -0.11828321, -0.11785336,\n",
        "        -0.11856718, -0.11861697, -0.11824334, -0.11815563, -0.11834483,\n",
        "        -0.23791768]])]),\n",
        "  (0.33452827089491916,\n",
        "   [array([[  6.31553257e-04,   3.30827297e-04,   3.60001878e-04,\n",
        "          1.13205208e-03,   7.38029031e-06],\n",
        "       [  4.45819652e-04,   3.07586576e-04,   6.79320086e-06,\n",
        "          1.44641991e-04,   4.51429015e-04],\n",
        "       [  8.84189258e-04,   3.67574280e-04,   5.03578966e-04,\n",
        "          7.77967018e-04,   6.10237319e-04],\n",
        "       [  1.33881732e-04,   1.00173011e-03,   1.14049003e-03,\n",
        "          4.62456156e-04,   4.35150860e-04],\n",
        "       [  1.01104394e-03,   7.07784704e-05,   5.38856405e-04,\n",
        "          1.01051172e-03,   3.23511403e-04],\n",
        "       [  6.94443006e-04,   2.53795947e-04,   1.01745713e-03,\n",
        "          5.23964650e-04,   1.05308126e-03],\n",
        "       [  6.68881549e-04,   3.65014658e-04,   9.20788503e-04,\n",
        "          4.85733768e-04,   6.41702463e-05],\n",
        "       [  6.20523688e-04,   2.58320209e-04,   1.72382167e-04,\n",
        "          4.27588995e-04,   1.32171235e-03],\n",
        "       [  4.29088762e-04,   7.39277097e-04,   5.47400207e-04,\n",
        "          9.10007858e-04,   9.01888063e-04],\n",
        "       [  6.14587317e-04,   8.23741957e-04,   6.42067664e-04,\n",
        "          2.79710059e-04,   2.05679922e-04]]),\n",
        "    array([[-0.11687927, -0.11591726, -0.11735273, -0.11651924, -0.11758381,\n",
        "        -0.11691855, -0.11661911, -0.11681656, -0.1168634 , -0.11667324,\n",
        "        -0.23232249],\n",
        "       [-0.08218824, -0.08298119, -0.08274482, -0.08279297, -0.08294226,\n",
        "        -0.08217007, -0.08213332, -0.08228659, -0.08251834, -0.08280966,\n",
        "        -0.16569803],\n",
        "       [-0.10296778, -0.10347793, -0.10257796, -0.10290398, -0.10245599,\n",
        "        -0.10317282, -0.10323487, -0.10287592, -0.10276908, -0.10297755,\n",
        "        -0.2072672 ]])]),\n",
        "  (0.33547204632941946,\n",
        "   [array([[  6.34079002e-04,   3.30643317e-04,   3.62338666e-04,\n",
        "          1.13775842e-03,   7.45118048e-06],\n",
        "       [  4.47299992e-04,   3.07583240e-04,   6.82950760e-06,\n",
        "          1.45203143e-04,   4.55764460e-04],\n",
        "       [  8.88004188e-04,   3.67355137e-04,   5.07067880e-04,\n",
        "          7.82286662e-04,   6.16092901e-04],\n",
        "       [  1.34393524e-04,   1.00143623e-03,   1.14749160e-03,\n",
        "          4.64640023e-04,   4.39330243e-04],\n",
        "       [  1.01554914e-03,   7.07335956e-05,   5.42700105e-04,\n",
        "          1.01635731e-03,   3.26614391e-04],\n",
        "       [  6.97179287e-04,   2.53655457e-04,   1.02398101e-03,\n",
        "          5.26555496e-04,   1.06320432e-03],\n",
        "       [  6.71415374e-04,   3.64844523e-04,   9.26469944e-04,\n",
        "          4.88011665e-04,   6.47869462e-05],\n",
        "       [  6.22996592e-04,   2.58188186e-04,   1.73494423e-04,\n",
        "          4.29731956e-04,   1.33440669e-03],\n",
        "       [  4.30822574e-04,   7.38922767e-04,   5.50964955e-04,\n",
        "          9.14645769e-04,   9.10550652e-04],\n",
        "       [  6.16957307e-04,   8.23468339e-04,   6.46048787e-04,\n",
        "          2.81047588e-04,   2.07654278e-04]]),\n",
        "    array([[-0.11589638, -0.11488156, -0.11636653, -0.11551802, -0.11661499,\n",
        "        -0.11593881, -0.11563269, -0.1158013 , -0.11586777, -0.1156608 ,\n",
        "        -0.23023088],\n",
        "       [-0.08119808, -0.08200085, -0.08175498, -0.08180925, -0.08194668,\n",
        "        -0.08117595, -0.08114227, -0.0813013 , -0.08153304, -0.08182833,\n",
        "        -0.16373494],\n",
        "       [-0.10372659, -0.10427992, -0.10333939, -0.10367457, -0.10320572,\n",
        "        -0.10393159, -0.10399797, -0.10366167, -0.10353538, -0.10375722,\n",
        "        -0.20889436]])]),\n",
        "  (0.33522295153269382,\n",
        "   [array([[  6.40317369e-04,   3.29463338e-04,   3.68299019e-04,\n",
        "          1.15598749e-03,   7.52942453e-06],\n",
        "       [  4.51412267e-04,   3.06678983e-04,   6.93413789e-06,\n",
        "          1.47362275e-04,   4.60628420e-04],\n",
        "       [  8.96992116e-04,   3.66019324e-04,   5.15612553e-04,\n",
        "          7.95195830e-04,   6.22510203e-04],\n",
        "       [  1.35693308e-04,   9.98144512e-04,   1.16597082e-03,\n",
        "          4.71939315e-04,   4.43961061e-04],\n",
        "       [  1.02596475e-03,   7.04721844e-05,   5.51955130e-04,\n",
        "          1.03336501e-03,   3.30001783e-04],\n",
        "       [  7.04004279e-04,   2.52751590e-04,   1.04075790e-03,\n",
        "          5.34948129e-04,   1.07439342e-03],\n",
        "       [  6.77891658e-04,   3.63582743e-04,   9.41429996e-04,\n",
        "          4.95667000e-04,   6.54709532e-05],\n",
        "       [  6.29109138e-04,   2.57282626e-04,   1.76337647e-04,\n",
        "          4.36594192e-04,   1.34844016e-03],\n",
        "       [  4.35076206e-04,   7.36341567e-04,   5.60035051e-04,\n",
        "          9.29344855e-04,   9.20103965e-04],\n",
        "       [  6.22937083e-04,   8.20735473e-04,   6.56479335e-04,\n",
        "          2.85473384e-04,   2.09841872e-04]]),\n",
        "    array([[-0.10588446, -0.10481891, -0.10634842, -0.10548566, -0.10661502,\n",
        "        -0.10592493, -0.10561705, -0.10575344, -0.10583891, -0.10561932,\n",
        "        -0.21009343],\n",
        "       [-0.08086098, -0.08167373, -0.08141841, -0.08147877, -0.08160425,\n",
        "        -0.08083523, -0.0808043 , -0.08096953, -0.08120115, -0.08150019,\n",
        "        -0.1630778 ],\n",
        "       [-0.11392511, -0.11452194, -0.11354373, -0.11388796, -0.11339681,\n",
        "        -0.11413537, -0.11420125, -0.11389239, -0.11374634, -0.11397807,\n",
        "        -0.22939421]])]),\n",
        "  (0.33542015059236169,\n",
        "   [array([[  6.43315879e-04,   3.29527713e-04,   3.70741741e-04,\n",
        "          1.16215921e-03,   7.61112159e-06],\n",
        "       [  4.53182032e-04,   3.06920079e-04,   6.97125167e-06,\n",
        "          1.47957162e-04,   4.65623192e-04],\n",
        "       [  9.01470633e-04,   3.66077283e-04,   5.19253767e-04,\n",
        "          7.99842122e-04,   6.29258099e-04],\n",
        "       [  1.36300858e-04,   9.98617733e-04,   1.17323917e-03,\n",
        "          4.74285979e-04,   4.48774794e-04],\n",
        "       [  1.03125661e-03,   7.04795170e-05,   5.55987817e-04,\n",
        "          1.03968547e-03,   3.33576748e-04],\n",
        "       [  7.07262578e-04,   2.52800788e-04,   1.04758560e-03,\n",
        "          5.37756371e-04,   1.08606081e-03],\n",
        "       [  6.80918577e-04,   3.63687471e-04,   9.47361968e-04,\n",
        "          4.98133524e-04,   6.61816555e-05],\n",
        "       [  6.32016297e-04,   2.57351946e-04,   1.77486836e-04,\n",
        "          4.38877159e-04,   1.36307618e-03],\n",
        "       [  4.37123749e-04,   7.36550651e-04,   5.63744646e-04,\n",
        "          9.34330345e-04,   9.30085169e-04],\n",
        "       [  6.25737256e-04,   8.21101587e-04,   6.60595376e-04,\n",
        "          2.86902200e-04,   2.12116848e-04]]),\n",
        "    array([[-0.10603295, -0.10491315, -0.10649387, -0.10561601, -0.10677807,\n",
        "        -0.1060772 , -0.10576195, -0.10586919, -0.10597505, -0.10573779,\n",
        "        -0.21026039],\n",
        "       [-0.0789785 , -0.07980149, -0.07953596, -0.07960249, -0.07971607,\n",
        "        -0.07894822, -0.07892089, -0.07909169, -0.07932311, -0.07962661,\n",
        "        -0.15933171],\n",
        "       [-0.11514153, -0.11578236, -0.11476299, -0.11511641, -0.1146041 ,\n",
        "        -0.1153521 , -0.11542209, -0.11513659, -0.1149706 , -0.11521577,\n",
        "        -0.23193816]])]),\n",
        "  (0.33525049909528021,\n",
        "   [array([[  6.43946941e-04,   3.30633724e-04,   3.71134460e-04,\n",
        "          1.16129505e-03,   7.69744283e-06],\n",
        "       [  4.53243057e-04,   3.08126419e-04,   6.96893457e-06,\n",
        "          1.47637940e-04,   4.70847029e-04],\n",
        "       [  9.02646905e-04,   3.67297501e-04,   5.20034997e-04,\n",
        "          7.99661779e-04,   6.36414974e-04],\n",
        "       [  1.36403026e-04,   1.00224486e-03,   1.17397351e-03,\n",
        "          4.73742948e-04,   4.53846883e-04],\n",
        "       [  1.03279763e-03,   7.07105575e-05,   5.56979235e-04,\n",
        "          1.03977149e-03,   3.37377671e-04],\n",
        "       [  7.07916177e-04,   2.53648384e-04,   1.04861778e-03,\n",
        "          5.37307440e-04,   1.09838105e-03],\n",
        "       [  6.81428212e-04,   3.64938687e-04,   9.48034432e-04,\n",
        "          4.97573707e-04,   6.69305423e-05],\n",
        "       [  6.32575389e-04,   2.58237609e-04,   1.77645316e-04,\n",
        "          4.38479097e-04,   1.37851751e-03],\n",
        "       [  4.37558043e-04,   7.39093091e-04,   5.64327622e-04,\n",
        "          9.33643097e-04,   9.40631741e-04],\n",
        "       [  6.26213096e-04,   8.24064253e-04,   6.61025361e-04,\n",
        "          2.86579691e-04,   2.14513908e-04]]),\n",
        "    array([[-0.11207979, -0.11090416, -0.11253965, -0.11164616, -0.11284104,\n",
        "        -0.11213131, -0.11180534, -0.1118856 , -0.11201238, -0.11175456,\n",
        "        -0.22221551],\n",
        "       [-0.07650071, -0.07733364, -0.07705794, -0.07713048, -0.07723257,\n",
        "        -0.07646554, -0.0764421 , -0.07661801, -0.07684929, -0.07715739,\n",
        "        -0.15439489],\n",
        "       [-0.11148764, -0.11217271, -0.11111029, -0.11147303, -0.11094008,\n",
        "        -0.11169573, -0.11177243, -0.11150796, -0.11132202, -0.11158266,\n",
        "        -0.22474582]])]),\n",
        "  (0.33521076004436262,\n",
        "   [array([[  6.49568075e-04,   3.30280904e-04,   3.76156092e-04,\n",
        "          1.17611575e-03,   7.78587598e-06],\n",
        "       [  4.56840447e-04,   3.08007611e-04,   7.05377992e-06,\n",
        "          1.49317048e-04,   4.76309849e-04],\n",
        "       [  9.10783724e-04,   3.66885078e-04,   5.27281128e-04,\n",
        "          8.10251309e-04,   6.43687926e-04],\n",
        "       [  1.37564300e-04,   1.00147816e-03,   1.18936366e-03,\n",
        "          4.79604188e-04,   4.59069557e-04],\n",
        "       [  1.04228838e-03,   7.06253441e-05,   5.64889849e-04,\n",
        "          1.05385381e-03,   3.41220580e-04],\n",
        "       [  7.14063894e-04,   2.53377372e-04,   1.06274525e-03,\n",
        "          5.44123958e-04,   1.11102120e-03],\n",
        "       [  6.87234046e-04,   3.64588922e-04,   9.60552938e-04,\n",
        "          5.03744973e-04,   6.77021393e-05],\n",
        "       [  6.38034133e-04,   2.57989904e-04,   1.80016975e-04,\n",
        "          4.43996246e-04,   1.39438564e-03],\n",
        "       [  4.41381343e-04,   7.38375129e-04,   5.71945841e-04,\n",
        "          9.45561829e-04,   9.51431463e-04],\n",
        "       [  6.31543511e-04,   8.23420988e-04,   6.69694082e-04,\n",
        "          2.90124926e-04,   2.16982661e-04]]),\n",
        "    array([[-0.10640125, -0.10517267, -0.10685624, -0.10594804, -0.1071758 ,\n",
        "        -0.10645327, -0.1061231 , -0.10617196, -0.10631872, -0.10604593,\n",
        "        -0.21073635],\n",
        "       [-0.07456175, -0.07540499, -0.0751189 , -0.07519762, -0.07528782,\n",
        "        -0.0745219 , -0.07450216, -0.07468364, -0.07491468, -0.07522728,\n",
        "        -0.15053622],\n",
        "       [-0.11874268, -0.11947218, -0.11837026, -0.11874213, -0.11818696,\n",
        "        -0.1189545 , -0.11903219, -0.11879437, -0.11858816, -0.11886001,\n",
        "        -0.23936303]])]),\n",
        "  (0.33506276549969516,\n",
        "   [array([[  6.49840166e-04,   3.29864460e-04,   3.77060499e-04,\n",
        "          1.17558553e-03,   7.85930201e-06],\n",
        "       [  4.56629313e-04,   3.07820927e-04,   7.06037469e-06,\n",
        "          1.49025935e-04,   4.80789234e-04],\n",
        "       [  9.11481589e-04,   3.66430149e-04,   5.28793693e-04,\n",
        "          8.10319692e-04,   6.49831435e-04],\n",
        "       [  1.37592067e-04,   1.00055003e-03,   1.19170837e-03,\n",
        "          4.79194336e-04,   4.63426070e-04],\n",
        "       [  1.04331845e-03,   7.05338309e-05,   5.66693937e-04,\n",
        "          1.05431841e-03,   3.44492778e-04],\n",
        "       [  7.14320111e-04,   2.53052717e-04,   1.06522330e-03,\n",
        "          5.43829590e-04,   1.12147729e-03],\n",
        "       [  6.87354843e-04,   3.64156470e-04,   9.62515033e-04,\n",
        "          5.03320017e-04,   6.83375964e-05],\n",
        "       [  6.38213017e-04,   2.57694488e-04,   1.80407340e-04,\n",
        "          4.43690045e-04,   1.40753970e-03],\n",
        "       [  4.41574146e-04,   7.37542038e-04,   5.73304009e-04,\n",
        "          9.45136559e-04,   9.60458874e-04],\n",
        "       [  6.31664560e-04,   8.22643676e-04,   6.71009439e-04,\n",
        "          2.89873356e-04,   2.19039280e-04]]),\n",
        "    array([[-0.10875158, -0.10746711, -0.10920431, -0.10828067, -0.10954162,\n",
        "        -0.10880881, -0.10846985, -0.1084898 , -0.10865769, -0.1083658 ,\n",
        "        -0.21530129],\n",
        "       [-0.08485073, -0.08570306, -0.08541203, -0.08549644, -0.08557355,\n",
        "        -0.0848132 , -0.0847905 , -0.08498328, -0.08521447, -0.08552628,\n",
        "        -0.17112   ],\n",
        "       [-0.10813108, -0.10890528, -0.10775737, -0.10813871, -0.10756377,\n",
        "        -0.10833634, -0.10842455, -0.1082044 , -0.10797807, -0.10826837,\n",
        "        -0.21826216]])]),\n",
        "  (0.33506123683315264,\n",
        "   [array([[  6.55914104e-04,   3.29280637e-04,   3.82567243e-04,\n",
        "          1.19210661e-03,   7.94561876e-06],\n",
        "       [  4.60508897e-04,   3.07505522e-04,   7.15321225e-06,\n",
        "          1.50897357e-04,   4.86149575e-04],\n",
        "       [  9.20250456e-04,   3.65757496e-04,   5.36721937e-04,\n",
        "          8.22084466e-04,   6.56913578e-04],\n",
        "       [  1.38845892e-04,   9.99097163e-04,   1.20857384e-03,\n",
        "          4.85726374e-04,   4.68528266e-04],\n",
        "       [  1.05355745e-03,   7.03968778e-05,   5.75361059e-04,\n",
        "          1.06997920e-03,   3.48227754e-04],\n",
        "       [  7.20968337e-04,   2.52604011e-04,   1.08072729e-03,\n",
        "          5.51435529e-04,   1.13381978e-03],\n",
        "       [  6.93634989e-04,   3.63554980e-04,   9.76255071e-04,\n",
        "          5.10210306e-04,   6.90918620e-05],\n",
        "       [  6.44087353e-04,   2.57274475e-04,   1.82997130e-04,\n",
        "          4.49812874e-04,   1.42305318e-03],\n",
        "       [  4.45698542e-04,   7.36312928e-04,   5.81645173e-04,\n",
        "          9.58398923e-04,   9.70998365e-04],\n",
        "       [  6.37408661e-04,   8.21446847e-04,   6.80489754e-04,\n",
        "          2.93815507e-04,   2.21452126e-04]]),\n",
        "    array([[-0.10104062, -0.09970317, -0.10148782, -0.10054966, -0.10184362,\n",
        "        -0.10109719, -0.10075518, -0.10074252, -0.10093055, -0.1006246 ,\n",
        "        -0.19975902],\n",
        "       [-0.08177453, -0.08263701, -0.08233536, -0.08242578, -0.08249143,\n",
        "        -0.08173168, -0.08171322, -0.08191099, -0.08214193, -0.0824586 ,\n",
        "        -0.16498735],\n",
        "       [-0.11773992, -0.11855934, -0.11737196, -0.11776258, -0.11716463,\n",
        "        -0.11795022, -0.11803824, -0.11784644, -0.11759945, -0.11790022,\n",
        "        -0.23758681]])]),\n",
        "  (0.3352282777339361,\n",
        "   [array([[  6.56295873e-04,   3.29350768e-04,   3.83094241e-04,\n",
        "          1.19046100e-03,   8.02508791e-06],\n",
        "       [  4.60311083e-04,   3.07775507e-04,   7.15126789e-06,\n",
        "          1.50434840e-04,   4.90958779e-04],\n",
        "       [  9.21086346e-04,   3.65836750e-04,   5.37697219e-04,\n",
        "          8.21369577e-04,   6.63529155e-04],\n",
        "       [  1.38888633e-04,   9.99632959e-04,   1.20962472e-03,\n",
        "          4.84823061e-04,   4.73211905e-04],\n",
        "       [  1.05477425e-03,   7.04068070e-05,   5.76616841e-04,\n",
        "          1.06947528e-03,   3.51747749e-04],\n",
        "       [  7.21350888e-04,   2.52653058e-04,   1.08215004e-03,\n",
        "          5.50630736e-04,   1.14515127e-03],\n",
        "       [  6.93865652e-04,   3.63661573e-04,   9.77237469e-04,\n",
        "          5.09300208e-04,   6.97802425e-05],\n",
        "       [  6.44333439e-04,   2.57364027e-04,   1.83189305e-04,\n",
        "          4.49041456e-04,   1.43726150e-03],\n",
        "       [  4.45950954e-04,   7.36564565e-04,   5.82402312e-04,\n",
        "          9.57032555e-04,   9.80729942e-04],\n",
        "       [  6.37587087e-04,   8.21881774e-04,   6.81057736e-04,\n",
        "          2.93256809e-04,   2.23663793e-04]]),\n",
        "    array([[-0.10604659, -0.1046517 , -0.10649248, -0.10553863, -0.10686603,\n",
        "        -0.10611006, -0.10575764, -0.10571653, -0.10592645, -0.10559986,\n",
        "        -0.20962923],\n",
        "       [-0.0844779 , -0.08535067, -0.08504028, -0.0851367 , -0.08518986,\n",
        "        -0.084433  , -0.08441569, -0.0846216 , -0.08485221, -0.08517142,\n",
        "        -0.17040919],\n",
        "       [-0.11055569, -0.11142026, -0.11018754, -0.11058765, -0.10996923,\n",
        "        -0.11076126, -0.11085812, -0.11068596, -0.11041854, -0.11073656,\n",
        "        -0.22333907]])]),\n",
        "  (0.33516494326774943,\n",
        "   [array([[  6.57426923e-04,   3.30488782e-04,   3.83765532e-04,\n",
        "          1.19027755e-03,   8.11677265e-06],\n",
        "       [  4.60608117e-04,   3.09045395e-04,   7.15133970e-06,\n",
        "          1.50142536e-04,   4.96490616e-04],\n",
        "       [  9.22951779e-04,   3.67091229e-04,   5.38861602e-04,\n",
        "          8.21641882e-04,   6.71112711e-04],\n",
        "       [  1.39084752e-04,   1.00339113e-03,   1.21107382e-03,\n",
        "          4.84492023e-04,   4.78585916e-04],\n",
        "       [  1.05717825e-03,   7.06415745e-05,   5.78085217e-04,\n",
        "          1.07027461e-03,   3.55774793e-04],\n",
        "       [  7.22563131e-04,   2.53523368e-04,   1.08399077e-03,\n",
        "          5.50507803e-04,   1.15824669e-03],\n",
        "       [  6.94889957e-04,   3.64951615e-04,   9.78587522e-04,\n",
        "          5.09015572e-04,   7.05761525e-05],\n",
        "       [  6.45294736e-04,   2.58291067e-04,   1.83441624e-04,\n",
        "          4.48799364e-04,   1.45363781e-03],\n",
        "       [  4.46701857e-04,   7.39195172e-04,   5.83361125e-04,\n",
        "          9.56812488e-04,   9.91912218e-04],\n",
        "       [  6.38464013e-04,   8.24971687e-04,   6.81840221e-04,\n",
        "          2.93039793e-04,   2.26202692e-04]]),\n",
        "    array([[-0.11214936, -0.11069696, -0.11259439, -0.11162465, -0.11298559,\n",
        "        -0.11222044, -0.11185688, -0.11178801, -0.11201976, -0.11167195,\n",
        "        -0.22169199],\n",
        "       [-0.07887076, -0.07975455, -0.07943179, -0.07953444, -0.07957611,\n",
        "        -0.07881899, -0.07880748, -0.0790174 , -0.0792474 , -0.07957289,\n",
        "        -0.15921895],\n",
        "       [-0.10922224, -0.11013192, -0.10885591, -0.10926548, -0.10862564,\n",
        "        -0.10942646, -0.10952901, -0.10937951, -0.10909161, -0.10942446,\n",
        "        -0.22078792]])]),\n",
        "  (0.33547690454873674,\n",
        "   [array([[  6.60423457e-04,   3.30109466e-04,   3.86825062e-04,\n",
        "          1.19774569e-03,   8.20098489e-06],\n",
        "       [  4.62233344e-04,   3.08929090e-04,   7.19610888e-06,\n",
        "          1.50820117e-04,   5.01665154e-04],\n",
        "       [  9.27435813e-04,   3.66661606e-04,   5.43378951e-04,\n",
        "          8.27194658e-04,   6.78076956e-04],\n",
        "       [  1.39679812e-04,   1.00258836e-03,   1.22009268e-03,\n",
        "          4.87290088e-04,   4.83563421e-04],\n",
        "       [  1.06258273e-03,   7.05511417e-05,   5.83154820e-04,\n",
        "          1.07795996e-03,   3.59463902e-04],\n",
        "       [  7.25826347e-04,   2.53227819e-04,   1.09258175e-03,\n",
        "          5.53925944e-04,   1.17026955e-03],\n",
        "       [  6.97891064e-04,   3.64569669e-04,   9.86033569e-04,\n",
        "          5.12006685e-04,   7.13088691e-05],\n",
        "       [  6.48085069e-04,   2.58039721e-04,   1.84832937e-04,\n",
        "          4.51435600e-04,   1.46874169e-03],\n",
        "       [  4.48725234e-04,   7.38446165e-04,   5.87955774e-04,\n",
        "          9.62753033e-04,   1.00221725e-03],\n",
        "       [  6.41165723e-04,   8.24318408e-04,   6.86872517e-04,\n",
        "          2.94709884e-04,   2.28554792e-04]]),\n",
        "    array([[-0.11019363, -0.1086856 , -0.11063513, -0.10965016, -0.11104472,\n",
        "        -0.11026761, -0.10989753, -0.10979757, -0.11005056, -0.10968551,\n",
        "        -0.21764905],\n",
        "       [-0.08035951, -0.08125336, -0.08092165, -0.08103025, -0.08105976,\n",
        "        -0.08030498, -0.08029529, -0.08051254, -0.0807423 , -0.08107082,\n",
        "        -0.16221194],\n",
        "       [-0.10974472, -0.11070013, -0.10938086, -0.10979995, -0.10913817,\n",
        "        -0.10994863, -0.11005595, -0.10993042, -0.1096217 , -0.10996882,\n",
        "        -0.22194863]])]),\n",
        "  (0.33514941349336846,\n",
        "   [array([[  6.65580066e-04,   3.28641273e-04,   3.91973420e-04,\n",
        "          1.21167435e-03,   8.28431086e-06],\n",
        "       [  4.65388942e-04,   3.07823090e-04,   7.27979298e-06,\n",
        "          1.52312315e-04,   5.06879993e-04],\n",
        "       [  9.34950831e-04,   3.65022407e-04,   5.50830742e-04,\n",
        "          8.37210006e-04,   6.84963363e-04],\n",
        "       [  1.40735424e-04,   9.98515809e-04,   1.23572252e-03,\n",
        "          4.92726139e-04,   4.88527842e-04],\n",
        "       [  1.07145843e-03,   7.02266899e-05,   5.91378650e-04,\n",
        "          1.09147078e-03,   3.63100524e-04],\n",
        "       [  7.31464187e-04,   2.52095563e-04,   1.10707562e-03,\n",
        "          5.60333202e-04,   1.18216080e-03],\n",
        "       [  7.03179362e-04,   3.62988758e-04,   9.98806441e-04,\n",
        "          5.17760534e-04,   7.20356330e-05],\n",
        "       [  6.52994121e-04,   2.56945056e-04,   1.87219290e-04,\n",
        "          4.56498666e-04,   1.48375878e-03],\n",
        "       [  4.52220749e-04,   7.35273038e-04,   5.95729439e-04,\n",
        "          9.73893853e-04,   1.01244633e-03],\n",
        "       [  6.45975660e-04,   8.20984689e-04,   6.95615356e-04,\n",
        "          2.97970311e-04,   2.30902145e-04]]),\n",
        "    array([[-0.10145906, -0.09989701, -0.10189462, -0.10089513, -0.10232322,\n",
        "        -0.10153174, -0.10115918, -0.10102524, -0.10129906, -0.10092019,\n",
        "        -0.20005824],\n",
        "       [-0.08717173, -0.08807487, -0.08773691, -0.08785113, -0.08786811,\n",
        "        -0.08711768, -0.0871067 , -0.08733383, -0.0875636 , -0.0878926 ,\n",
        "        -0.17584529],\n",
        "       [-0.11239379, -0.11339555, -0.1120332 , -0.11246186, -0.11177754,\n",
        "        -0.11259862, -0.11270962, -0.11260953, -0.11227965, -0.11264037,\n",
        "        -0.22736214]])]),\n",
        "  (0.33534443600275998,\n",
        "   [array([[  6.65917957e-04,   3.29252566e-04,   3.92286778e-04,\n",
        "          1.21015878e-03,   8.37120676e-06],\n",
        "       [  4.65068683e-04,   3.08625254e-04,   7.27152672e-06,\n",
        "          1.51818803e-04,   5.12118555e-04],\n",
        "       [  9.35716610e-04,   3.65699319e-04,   5.51503440e-04,\n",
        "          8.36575160e-04,   6.92179621e-04],\n",
        "       [  1.40759791e-04,   1.00071586e-03,   1.23596914e-03,\n",
        "          4.91826250e-04,   4.93634551e-04],\n",
        "       [  1.07265706e-03,   7.03491065e-05,   5.92368224e-04,\n",
        "          1.09117694e-03,   3.66939840e-04],\n",
        "       [  7.31805686e-04,   2.52558784e-04,   1.10791151e-03,\n",
        "          5.59597354e-04,   1.19456082e-03],\n",
        "       [  7.03352463e-04,   3.63696403e-04,   9.99214452e-04,\n",
        "          5.16892670e-04,   7.27887663e-05],\n",
        "       [  6.53123281e-04,   2.57470986e-04,   1.87275630e-04,\n",
        "          4.55692322e-04,   1.49926875e-03],\n",
        "       [  4.52425127e-04,   7.36745944e-04,   5.96123996e-04,\n",
        "          9.72570144e-04,   1.02306689e-03],\n",
        "       [  6.46044370e-04,   8.22804282e-04,   6.95687365e-04,\n",
        "          2.97394294e-04,   2.33312864e-04]]),\n",
        "    array([[-0.10708914, -0.10546842, -0.10752382, -0.10650839, -0.10797046,\n",
        "        -0.10716952, -0.10678577, -0.10662317, -0.10691947, -0.10651913,\n",
        "        -0.21117323],\n",
        "       [-0.08674553, -0.08765905, -0.08731114, -0.08743129, -0.0874364 ,\n",
        "        -0.08668757, -0.08667949, -0.08691314, -0.08714247, -0.08747537,\n",
        "        -0.1750109 ],\n",
        "       [-0.10710225, -0.10815041, -0.106742  , -0.1071804 , -0.10647464,\n",
        "        -0.10730314, -0.10742232, -0.1073434 , -0.10699249, -0.10737023,\n",
        "        -0.21690118]])]),\n",
        "  (0.33458778160530578,\n",
        "   [array([[  6.73857913e-04,   3.27795002e-04,   3.99595755e-04,\n",
        "          1.23142311e-03,   8.47013588e-06],\n",
        "       [  4.70140849e-04,   3.07553694e-04,   7.39415299e-06,\n",
        "          1.54207669e-04,   5.18350418e-04],\n",
        "       [  9.47117999e-04,   3.64063610e-04,   5.61980724e-04,\n",
        "          8.51643916e-04,   7.00310993e-04],\n",
        "       [  1.42399518e-04,   9.96686517e-04,   1.25832930e-03,\n",
        "          5.00213691e-04,   4.99521727e-04],\n",
        "       [  1.08599817e-03,   7.00230462e-05,   6.03862311e-04,\n",
        "          1.11131920e-03,   3.71218108e-04],\n",
        "       [  7.40510808e-04,   2.51434933e-04,   1.12852505e-03,\n",
        "          5.69405423e-04,   1.20869547e-03],\n",
        "       [  7.11584332e-04,   3.62132905e-04,   1.01748488e-03,\n",
        "          5.25776381e-04,   7.36540707e-05],\n",
        "       [  6.60738395e-04,   2.56394888e-04,   1.90679172e-04,\n",
        "          4.63481078e-04,   1.51714626e-03],\n",
        "       [  4.57801785e-04,   7.33598618e-04,   6.07158975e-04,\n",
        "          9.89571364e-04,   1.03518972e-03],\n",
        "       [  6.53525627e-04,   8.19520303e-04,   7.08198889e-04,\n",
        "          3.02430251e-04,   2.36100351e-04]]),\n",
        "    array([[-0.09506059, -0.093386  , -0.09548803, -0.09445853, -0.09595418,\n",
        "        -0.09513743, -0.09475333, -0.09455475, -0.09487213, -0.09445958,\n",
        "        -0.18699806],\n",
        "       [-0.08906965, -0.08999381, -0.08963673, -0.0897628 , -0.08975545,\n",
        "        -0.08900942, -0.08900269, -0.08924458, -0.08947334, -0.08980903,\n",
        "        -0.17967513],\n",
        "       [-0.11705727, -0.11815182, -0.11670304, -0.11715067, -0.11642148,\n",
        "        -0.11726372, -0.11738227, -0.11733301, -0.1169606 , -0.11734869,\n",
        "        -0.23692018]])]),\n",
        "  (0.33529094334596199,\n",
        "   [array([[  6.73084144e-04,   3.29602290e-04,   3.98600351e-04,\n",
        "          1.22672482e-03,   8.56737037e-06],\n",
        "       [  4.68957510e-04,   3.09473119e-04,   7.35972998e-06,\n",
        "          1.53275646e-04,   5.24130058e-04],\n",
        "       [  9.46305279e-04,   3.66060505e-04,   5.60804351e-04,\n",
        "          8.48794124e-04,   7.08346305e-04],\n",
        "       [  1.42177357e-04,   1.00249385e-03,   1.25431784e-03,\n",
        "          4.97968152e-04,   5.05180359e-04],\n",
        "       [  1.08542949e-03,   7.03981241e-05,   6.02903103e-04,\n",
        "          1.10820515e-03,   3.75494816e-04],\n",
        "       [  7.39638962e-04,   2.52817302e-04,   1.12568034e-03,\n",
        "          5.67205731e-04,   1.22259733e-03],\n",
        "       [  7.10574455e-04,   3.64163869e-04,   1.01453887e-03,\n",
        "          5.23538871e-04,   7.44971717e-05],\n",
        "       [  6.59723690e-04,   2.57860186e-04,   1.90087933e-04,\n",
        "          4.61419896e-04,   1.53443759e-03],\n",
        "       [  4.57229963e-04,   7.37738451e-04,   6.05527708e-04,\n",
        "          9.85630490e-04,   1.04700820e-03],\n",
        "       [  6.52449680e-04,   8.24314493e-04,   7.05851789e-04,\n",
        "          3.01030418e-04,   2.38771917e-04]]),\n",
        "    array([[-0.10674539, -0.10500971, -0.10717423, -0.10612809, -0.10765816,\n",
        "        -0.10683396, -0.10643476, -0.10620961, -0.10655043, -0.10611293,\n",
        "        -0.21021129],\n",
        "       [-0.07760933, -0.07854504, -0.07817269, -0.07830516, -0.07828705,\n",
        "        -0.07753824, -0.07754097, -0.07778381, -0.07801179, -0.07835661,\n",
        "        -0.15678514],\n",
        "       [-0.11569689, -0.11683858, -0.11534447, -0.11580185, -0.11505032,\n",
        "        -0.11590182, -0.11602639, -0.11600087, -0.11560693, -0.11601058,\n",
        "        -0.23431993]])]),\n",
        "  (0.33542516700755354,\n",
        "   [array([[  6.74767801e-04,   3.29700373e-04,   4.00259013e-04,\n",
        "          1.22910338e-03,   8.65771061e-06],\n",
        "       [  4.69524840e-04,   3.09827038e-04,   7.37484655e-06,\n",
        "          1.53238639e-04,   5.29615233e-04],\n",
        "       [  9.48955156e-04,   3.66168106e-04,   5.63364665e-04,\n",
        "          8.50843520e-04,   7.15840049e-04],\n",
        "       [  1.42481840e-04,   1.00317158e-03,   1.25872295e-03,\n",
        "          4.98620158e-04,   5.10502978e-04],\n",
        "       [  1.08882876e-03,   7.04089822e-05,   6.05961484e-04,\n",
        "          1.11148930e-03,   3.79476408e-04],\n",
        "       [  7.41465408e-04,   2.52884767e-04,   1.13033176e-03,\n",
        "          5.68278520e-04,   1.23549054e-03],\n",
        "       [  7.12164089e-04,   3.64307483e-04,   1.01835678e-03,\n",
        "          5.24326208e-04,   7.52811808e-05],\n",
        "       [  6.61123500e-04,   2.57997635e-04,   1.90762351e-04,\n",
        "          4.62019112e-04,   1.55058771e-03],\n",
        "       [  4.58338562e-04,   7.38078648e-04,   6.07941889e-04,\n",
        "          9.87395913e-04,   1.05805751e-03],\n",
        "       [  6.53784310e-04,   8.24897438e-04,   7.08229706e-04,\n",
        "          3.01377323e-04,   2.41285037e-04]]),\n",
        "    array([[-0.10937308, -0.10757861, -0.10980002, -0.10873806, -0.11030256,\n",
        "        -0.10946757, -0.10905879, -0.10880331, -0.10916685, -0.10870906,\n",
        "        -0.21532398],\n",
        "       [-0.07870981, -0.07965624, -0.07927416, -0.0794126 , -0.07938218,\n",
        "        -0.07863566, -0.07864049, -0.0788909 , -0.07911828, -0.07946648,\n",
        "        -0.15900344],\n",
        "       [-0.11222609, -0.11341468, -0.11187461, -0.11234176, -0.1115683 ,\n",
        "        -0.11242812, -0.11255996, -0.11255686, -0.11214153, -0.11256163,\n",
        "        -0.22750009]])]),\n",
        "  (0.33531535905876803,\n",
        "   [array([[  6.77379948e-04,   3.28957034e-04,   4.03295844e-04,\n",
        "          1.23570218e-03,   8.74494448e-06],\n",
        "       [  4.70742686e-04,   3.09414995e-04,   7.41524412e-06,\n",
        "          1.53727259e-04,   5.34981792e-04],\n",
        "       [  9.52911815e-04,   3.65342294e-04,   5.67865351e-04,\n",
        "          8.55814042e-04,   7.23077734e-04],\n",
        "       [  1.42984329e-04,   1.00132190e-03,   1.26747104e-03,\n",
        "          5.00990278e-04,   5.15673559e-04],\n",
        "       [  1.09373315e-03,   7.02392369e-05,   6.11115193e-04,\n",
        "          1.11860214e-03,   3.83313714e-04],\n",
        "       [  7.44311962e-04,   2.52305308e-04,   1.13887770e-03,\n",
        "          5.71303592e-04,   1.24793335e-03],\n",
        "       [  7.14734464e-04,   3.63523777e-04,   1.02567993e-03,\n",
        "          5.26914174e-04,   7.60392783e-05],\n",
        "       [  6.63426001e-04,   2.57483949e-04,   1.92088888e-04,\n",
        "          4.64194345e-04,   1.56624061e-03],\n",
        "       [  4.60080074e-04,   7.36546716e-04,   6.12450206e-04,\n",
        "          9.92554893e-04,   1.06875577e-03],\n",
        "       [  6.56021631e-04,   8.23409813e-04,   7.13039886e-04,\n",
        "          3.02757880e-04,   2.43727736e-04]]),\n",
        "    array([[-0.10740942, -0.10555733, -0.10783288, -0.10675548, -0.10835449,\n",
        "        -0.10750701, -0.10709148, -0.10680357, -0.10718948, -0.10671389,\n",
        "        -0.21126082],\n",
        "       [-0.08388269, -0.08483922, -0.08444955, -0.08459373, -0.08455067,\n",
        "        -0.08380804, -0.08381247, -0.08407253, -0.08429954, -0.08464903,\n",
        "        -0.16936124],\n",
        "       [-0.1097293 , -0.11096521, -0.10937907, -0.1098561 , -0.10906028,\n",
        "        -0.10992893, -0.11006759, -0.11008766, -0.10965074, -0.11008699,\n",
        "        -0.22262846]])]),\n",
        "  (0.33532053830895098,\n",
        "   [array([[  6.78123711e-04,   3.29336104e-04,   4.04183630e-04,\n",
        "          1.23614849e-03,   8.83820063e-06],\n",
        "       [  4.70596148e-04,   3.10042954e-04,   7.41471359e-06,\n",
        "          1.53421797e-04,   5.40608615e-04],\n",
        "       [  9.54240953e-04,   3.65761653e-04,   5.69343036e-04,\n",
        "          8.56526465e-04,   7.30814029e-04],\n",
        "       [  1.43084510e-04,   1.00286309e-03,   1.26937265e-03,\n",
        "          5.00830247e-04,   5.21154903e-04],\n",
        "       [  1.09565868e-03,   7.03089892e-05,   6.13046694e-04,\n",
        "          1.12020522e-03,   3.87429060e-04],\n",
        "       [  7.45108854e-04,   2.52587632e-04,   1.14136026e-03,\n",
        "          5.71487056e-04,   1.26124562e-03],\n",
        "       [  7.15322689e-04,   3.63978591e-04,   1.02751501e-03,\n",
        "          5.26867736e-04,   7.68480206e-05],\n",
        "       [  6.63859723e-04,   2.57847407e-04,   1.92375589e-04,\n",
        "          4.64019045e-04,   1.58287694e-03],\n",
        "       [  4.60539433e-04,   7.37521575e-04,   6.13671425e-04,\n",
        "          9.92734122e-04,   1.08015001e-03],\n",
        "       [  6.56404192e-04,   8.24710370e-04,   7.13984215e-04,\n",
        "          3.02603208e-04,   2.46314347e-04]]),\n",
        "    array([[-0.11169758, -0.10978597, -0.11211995, -0.1110264 , -0.11266021,\n",
        "        -0.11180252, -0.11137614, -0.11105844, -0.1114673 , -0.1109704 ,\n",
        "        -0.21969118],\n",
        "       [-0.08345201, -0.08441907, -0.08401922, -0.08416938, -0.08411431,\n",
        "        -0.08337328, -0.0833807 , -0.08364741, -0.08387392, -0.08422738,\n",
        "        -0.16851813],\n",
        "       [-0.10557419, -0.10685753, -0.10522453, -0.10571157, -0.10489346,\n",
        "        -0.10577024, -0.10591682, -0.10595913, -0.10550064, -0.10595391,\n",
        "        -0.21444183]])]),\n",
        "  (0.33544843912631067,\n",
        "   [array([[  6.82924648e-04,   3.28469782e-04,   4.08860995e-04,\n",
        "          1.24855970e-03,   8.92806909e-06],\n",
        "       [  4.73312515e-04,   3.09542882e-04,   7.48427041e-06,\n",
        "          1.54612427e-04,   5.46204001e-04],\n",
        "       [  9.61260985e-04,   3.64792925e-04,   5.76146372e-04,\n",
        "          8.65511080e-04,   7.38236079e-04],\n",
        "       [  1.44046453e-04,   1.00065759e-03,   1.28321709e-03,\n",
        "          5.05533952e-04,   5.26491121e-04],\n",
        "       [  1.10409398e-03,   7.01095268e-05,   6.20702846e-04,\n",
        "          1.13261060e-03,   3.91347706e-04],\n",
        "       [  7.50367086e-04,   2.51913537e-04,   1.15455396e-03,\n",
        "          5.77206903e-04,   1.27407461e-03],\n",
        "       [  7.20204707e-04,   3.63064183e-04,   1.03900325e-03,\n",
        "          5.31930424e-04,   7.76314844e-05],\n",
        "       [  6.68281921e-04,   2.57248614e-04,   1.94468432e-04,\n",
        "          4.68339876e-04,   1.59907237e-03],\n",
        "       [  4.63760766e-04,   7.35719819e-04,   6.20652941e-04,\n",
        "          1.00253297e-03,   1.09116808e-03],\n",
        "       [  6.60738523e-04,   8.22944266e-04,   7.21638901e-04,\n",
        "          3.05383816e-04,   2.48838993e-04]]),\n",
        "    array([[-0.1060879 , -0.10411917, -0.1065054 , -0.10539681, -0.10706522,\n",
        "        -0.10619353, -0.10576269, -0.10541063, -0.10584189, -0.105329  ,\n",
        "        -0.20834075],\n",
        "       [-0.08635924, -0.08733679, -0.08692816, -0.08708411, -0.08701664,\n",
        "        -0.08627863, -0.08628698, -0.08656231, -0.08678825, -0.08714414,\n",
        "        -0.17434748],\n",
        "       [-0.10840391, -0.10973509, -0.10805753, -0.10855433, -0.10771291,\n",
        "        -0.10860093, -0.10875122, -0.10882008, -0.10833954, -0.10880672,\n",
        "        -0.22021971]])]),\n",
        "  (0.33535689200297014,\n",
        "   [array([[  6.87731698e-04,   3.28661040e-04,   4.12978107e-04,\n",
        "          1.25970144e-03,   9.02837877e-06],\n",
        "       [  4.75972304e-04,   3.10032144e-04,   7.54216075e-06,\n",
        "          1.55616674e-04,   5.52379405e-04],\n",
        "       [  9.68280573e-04,   3.64993849e-04,   5.82157021e-04,\n",
        "          8.73611188e-04,   7.46499014e-04],\n",
        "       [  1.45001518e-04,   1.00165050e-03,   1.29520327e-03,\n",
        "          5.09685064e-04,   5.32405150e-04],\n",
        "       [  1.11255795e-03,   7.01343592e-05,   6.27532605e-04,\n",
        "          1.14390970e-03,   3.95714551e-04],\n",
        "       [  7.55638572e-04,   2.52052015e-04,   1.16617730e-03,\n",
        "          5.82345619e-04,   1.28841233e-03],\n",
        "       [  7.25086487e-04,   3.63319491e-04,   1.04905016e-03,\n",
        "          5.36443149e-04,   7.85058076e-05],\n",
        "       [  6.72675559e-04,   2.57479398e-04,   1.96279288e-04,\n",
        "          4.72146410e-04,   1.61709547e-03],\n",
        "       [  4.66972139e-04,   7.36279269e-04,   6.26758274e-04,\n",
        "          1.01127178e-03,   1.10341917e-03],\n",
        "       [  6.65032728e-04,   8.23812088e-04,   7.28233693e-04,\n",
        "          3.07823949e-04,   2.51636754e-04]]),\n",
        "    array([[-0.10439943, -0.10237164, -0.10481352, -0.1036894 , -0.10539283,\n",
        "        -0.10450841, -0.1040705 , -0.10368525, -0.10413971, -0.10360844,\n",
        "        -0.20482455],\n",
        "       [-0.08243212, -0.08342132, -0.08300005, -0.0831622 , -0.08308282,\n",
        "        -0.08234508, -0.08235869, -0.08263924, -0.08286419, -0.08322603,\n",
        "        -0.1665174 ],\n",
        "       [-0.11337914, -0.11475857, -0.11303692, -0.11354339, -0.11267827,\n",
        "        -0.11357862, -0.11373127, -0.11382825, -0.1133253 , -0.11380548,\n",
        "        -0.2302876 ]])]),\n",
        "  (0.33467533153913503,\n",
        "   [array([[  6.94382880e-04,   3.27991197e-04,   4.19210628e-04,\n",
        "          1.27666775e-03,   9.13442378e-06],\n",
        "       [  4.79932131e-04,   3.09744053e-04,   7.63876818e-06,\n",
        "          1.57342878e-04,   5.59024161e-04],\n",
        "       [  9.77899836e-04,   3.64237772e-04,   5.91154459e-04,\n",
        "          8.85759053e-04,   7.55233102e-04],\n",
        "       [  1.46350033e-04,   1.00005932e-03,   1.31385451e-03,\n",
        "          5.16206694e-04,   5.38703193e-04],\n",
        "       [  1.12400488e-03,   6.99735224e-05,   6.37587697e-04,\n",
        "          1.16051988e-03,   4.00313795e-04],\n",
        "       [  7.62934862e-04,   2.51528500e-04,   1.18377436e-03,\n",
        "          5.90176311e-04,   1.30355931e-03],\n",
        "       [  7.31915748e-04,   3.62627127e-04,   1.06446930e-03,\n",
        "          5.43435404e-04,   7.94319435e-05],\n",
        "       [  6.78877119e-04,   2.57046507e-04,   1.99093056e-04,\n",
        "          4.78129841e-04,   1.63626396e-03],\n",
        "       [  4.71442782e-04,   7.34923095e-04,   6.36081891e-04,\n",
        "          1.02470082e-03,   1.11641423e-03],\n",
        "       [  6.71127613e-04,   8.22566727e-04,   7.38564992e-04,\n",
        "          3.11691007e-04,   2.54620255e-04]]),\n",
        "    array([[-0.09677396, -0.09468876, -0.09718238, -0.09604346, -0.09778171,\n",
        "        -0.09688234, -0.09644121, -0.09602009, -0.0964973 , -0.09595094,\n",
        "        -0.1894439 ],\n",
        "       [-0.08321852, -0.0842179 , -0.08378725, -0.08395505, -0.08386391,\n",
        "        -0.08312814, -0.08314392, -0.08343181, -0.08365628, -0.08402135,\n",
        "        -0.16810633],\n",
        "       [-0.12022141, -0.12165016, -0.11988412, -0.1204004 , -0.11951077,\n",
        "        -0.12042446, -0.12057851, -0.12070529, -0.1201794 , -0.12067209,\n",
        "        -0.24409037]])])],\n",
        " (0.7333333333333333, 33.0))"
       ]
      }
     ],
     "prompt_number": 125
    },
    {
     "cell_type": "code",
     "collapsed": false,
     "input": [
      "%pylab"
     ],
     "language": "python",
     "metadata": {},
     "outputs": [
      {
       "output_type": "stream",
       "stream": "stdout",
       "text": [
        "Using matplotlib backend: Qt4Agg\n",
        "Populating the interactive namespace from numpy and matplotlib\n"
       ]
      }
     ],
     "prompt_number": 80
    },
    {
     "cell_type": "code",
     "collapsed": false,
     "input": [
      "res"
     ],
     "language": "python",
     "metadata": {},
     "outputs": [
      {
       "metadata": {},
       "output_type": "pyout",
       "prompt_number": 92,
       "text": [
        "[(0.34199692121855146,\n",
        "  [array([[-0.19677559,  0.02211992, -0.29340115, -0.29684186, -0.15179425],\n",
        "       [-0.07350027, -0.16748149, -0.04411454, -0.06162564, -0.2139509 ],\n",
        "       [ 0.01571716, -0.13157885,  0.06399544,  0.09191154, -0.2567917 ]])]),\n",
        " (0.30558118480555818,\n",
        "  [array([[-0.30435862,  0.10733356, -0.48165676, -0.48818723, -0.14315545],\n",
        "       [-0.09574465, -0.27930845, -0.03447366, -0.06915524, -0.31165554],\n",
        "       [ 0.06016499, -0.2214146 ,  0.15561257,  0.20986978, -0.42826858]])]),\n",
        " (0.28588225029147679,\n",
        "  [array([[-0.3731362 ,  0.21593463, -0.62276973, -0.63243078, -0.07036958],\n",
        "       [-0.09673248, -0.36488812, -0.00349072, -0.05529724, -0.35781952],\n",
        "       [ 0.10615164, -0.2959158 ,  0.24427555,  0.32403143, -0.57604349]])]),\n",
        " (0.27099997529356706,\n",
        "  [array([[-0.43501637,  0.32001977, -0.7527708 , -0.76517521,  0.00140221],\n",
        "       [-0.09328757, -0.44170174,  0.03008147, -0.03923255, -0.38980656],\n",
        "       [ 0.16558666, -0.3454739 ,  0.34471361,  0.44895435, -0.67455318]])]),\n",
        " (0.25766494171552479,\n",
        "  [array([[-0.48640738,  0.42304672, -0.86776688, -0.88242574,  0.08013493],\n",
        "       [-0.09720443, -0.5201201 ,  0.05456548, -0.03207554, -0.42904719],\n",
        "       [ 0.22922885, -0.38137385,  0.44639725,  0.57396584, -0.74852761]])]),\n",
        " (0.24729934982188817,\n",
        "  [array([[-0.53459809,  0.51852447, -0.97567312, -0.99222814,  0.15113939],\n",
        "       [-0.08082658, -0.57535562,  0.09961964, -0.0046156 , -0.42131972],\n",
        "       [ 0.2651564 , -0.4322804 ,  0.51517829,  0.66637182, -0.86439476]])]),\n",
        " (0.23782225830110684,\n",
        "  [array([[-0.57892624,  0.60784452, -1.07587957, -1.09389275,  0.21709374],\n",
        "       [-0.07016539, -0.6325725 ,  0.13691602,  0.01480952, -0.42065231],\n",
        "       [ 0.30390191, -0.47229282,  0.58465335,  0.7587335 , -0.96132315]])]),\n",
        " (0.22949510139535007,\n",
        "  [array([[-0.62252913,  0.68842034, -1.17211199, -1.19106266,  0.2713181 ],\n",
        "       [-0.05604425, -0.68351113,  0.1768906 ,  0.03677109, -0.40932882],\n",
        "       [ 0.33690973, -0.51022575,  0.64588368,  0.84233854, -1.05702183]])]),\n",
        " (0.22250927318724786,\n",
        "  [array([[-0.65977526,  0.76691418, -1.2584385 , -1.2781808 ,  0.32870895],\n",
        "       [-0.05652228, -0.74493997,  0.19989146,  0.04140421, -0.42369279],\n",
        "       [ 0.37861685, -0.53433422,  0.71534447,  0.93358427, -1.12430106]])]),\n",
        " (0.21628070554036996,\n",
        "  [array([[-0.69453075,  0.84021187, -1.33933868, -1.35966291,  0.38140937],\n",
        "       [-0.05530542, -0.80181753,  0.22409789,  0.04743674, -0.43037913],\n",
        "       [ 0.41372313, -0.55896326,  0.77545013,  1.01493535, -1.19619563]])]),\n",
        " (0.21086041220744287,\n",
        "  [array([[-0.72984319,  0.90540853, -1.41828506, -1.43885336,  0.42243442],\n",
        "       [-0.04584772, -0.8490336 ,  0.25612879,  0.06088336, -0.41844643],\n",
        "       [ 0.43848988, -0.58664251,  0.82306454,  1.08394064, -1.2785466 ]])]),\n",
        " (0.20608343737567841,\n",
        "  [array([[-0.76095092,  0.96886639, -1.49039649, -1.51111355,  0.46564357],\n",
        "       [-0.04186692, -0.89906134,  0.28144565,  0.06772995, -0.41502274],\n",
        "       [ 0.46483504, -0.60896935,  0.87132193,  1.15294233, -1.35064721]])]),\n",
        " (0.20169653280600827,\n",
        "  [array([[-0.79272459,  1.02547238, -1.56104019, -1.58167737,  0.49871953],\n",
        "       [-0.03315145, -0.94246714,  0.31133895,  0.07927648, -0.39866925],\n",
        "       [ 0.48526082, -0.63242553,  0.91178053,  1.21369296, -1.42790161]])]),\n",
        " (0.19792377092005886,\n",
        "  [array([[-0.81833824,  1.08409721, -1.62334569, -1.64404649,  0.54117211],\n",
        "       [-0.03232723, -0.99164754,  0.33207633,  0.08151734, -0.39686508],\n",
        "       [ 0.50499549, -0.65291535,  0.95046098,  1.27250532, -1.50047822]])]),\n",
        " (0.19435516936123121,\n",
        "  [array([[-0.84642367,  1.13463918, -1.68634011, -1.70679492,  0.57022541],\n",
        "       [-0.03352302, -1.04010468,  0.35016724,  0.08116447, -0.39549282],\n",
        "       [ 0.53280457, -0.66464329,  0.99749921,  1.33909937, -1.55288563]])]),\n",
        " (0.19103549567844846,\n",
        "  [array([[-0.87225509,  1.18341985, -1.74542628, -1.76561269,  0.59919039],\n",
        "       [-0.02497854, -1.0782825 ,  0.37829062,  0.09116604, -0.37319102],\n",
        "       [ 0.54516059, -0.68602047,  1.02647313,  1.38713406, -1.62973286]])]),\n",
        " (0.18841803385187011,\n",
        "  [array([[-0.89436887,  1.2328186 , -1.79910305, -1.81904852,  0.63343286],\n",
        "       [-0.02504547, -1.12352938,  0.39611228,  0.0904062 , -0.36794397],\n",
        "       [ 0.56158723, -0.70152248,  1.05956387,  1.4393768 , -1.6939891 ]])]),\n",
        " (0.18577373261483815,\n",
        "  [array([[-0.91871126,  1.27556766, -1.85379017, -1.87327186,  0.65584328],\n",
        "       [-0.02401724, -1.16594202,  0.41464219,  0.09041114, -0.35778451],\n",
        "       [ 0.5814863 , -0.71251345,  1.09643643,  1.49511014, -1.74751665]])]),\n",
        " (0.18314380889901222,\n",
        "  [array([[-0.94009886,  1.3186543 , -1.90416264, -1.92326452,  0.68218634],\n",
        "       [-0.02011133, -1.20554097,  0.43607036,  0.0932341 , -0.34233558],\n",
        "       [ 0.59324366, -0.72756814,  1.12353238,  1.540931  , -1.81212091]])]),\n",
        " (0.18113028244349716,\n",
        "  [array([[-0.96112852,  1.35889982, -1.95299129, -1.9715911 ,  0.7052509 ],\n",
        "       [-0.02825209, -1.25360577,  0.44350243,  0.08202065, -0.3489246 ],\n",
        "       [ 0.6197173 , -0.73057527,  1.16734809,  1.6030714 , -1.84633081]])])]"
       ]
      }
     ],
     "prompt_number": 92
    },
    {
     "cell_type": "code",
     "collapsed": false,
     "input": [],
     "language": "python",
     "metadata": {},
     "outputs": []
    },
    {
     "cell_type": "code",
     "collapsed": false,
     "input": [
      "d[d.columns[:1] + d.columns[2:]]"
     ],
     "language": "python",
     "metadata": {},
     "outputs": [
      {
       "html": [
        "<div style=\"max-height:1000px;max-width:1500px;overflow:auto;\">\n",
        "<table border=\"1\" class=\"dataframe\">\n",
        "  <thead>\n",
        "    <tr style=\"text-align: right;\">\n",
        "      <th></th>\n",
        "      <th>friends</th>\n",
        "      <th>major</th>\n",
        "    </tr>\n",
        "  </thead>\n",
        "  <tbody>\n",
        "    <tr>\n",
        "      <th>0</th>\n",
        "      <td>  8</td>\n",
        "      <td>  cs</td>\n",
        "    </tr>\n",
        "    <tr>\n",
        "      <th>1</th>\n",
        "      <td>  2</td>\n",
        "      <td>  cs</td>\n",
        "    </tr>\n",
        "    <tr>\n",
        "      <th>2</th>\n",
        "      <td>  0</td>\n",
        "      <td>  cs</td>\n",
        "    </tr>\n",
        "    <tr>\n",
        "      <th>3</th>\n",
        "      <td>  1</td>\n",
        "      <td>  cs</td>\n",
        "    </tr>\n",
        "    <tr>\n",
        "      <th>4</th>\n",
        "      <td>  8</td>\n",
        "      <td> law</td>\n",
        "    </tr>\n",
        "    <tr>\n",
        "      <th>5</th>\n",
        "      <td> 20</td>\n",
        "      <td> law</td>\n",
        "    </tr>\n",
        "    <tr>\n",
        "      <th>6</th>\n",
        "      <td> 10</td>\n",
        "      <td> law</td>\n",
        "    </tr>\n",
        "    <tr>\n",
        "      <th>7</th>\n",
        "      <td>  7</td>\n",
        "      <td> law</td>\n",
        "    </tr>\n",
        "  </tbody>\n",
        "</table>\n",
        "</div>"
       ],
       "metadata": {},
       "output_type": "pyout",
       "prompt_number": 29,
       "text": [
        "   friends major\n",
        "0        8    cs\n",
        "1        2    cs\n",
        "2        0    cs\n",
        "3        1    cs\n",
        "4        8   law\n",
        "5       20   law\n",
        "6       10   law\n",
        "7        7   law"
       ]
      }
     ],
     "prompt_number": 29
    },
    {
     "cell_type": "code",
     "collapsed": false,
     "input": [
      "d[['major', 'friends']]"
     ],
     "language": "python",
     "metadata": {},
     "outputs": [
      {
       "html": [
        "<div style=\"max-height:1000px;max-width:1500px;overflow:auto;\">\n",
        "<table border=\"1\" class=\"dataframe\">\n",
        "  <thead>\n",
        "    <tr style=\"text-align: right;\">\n",
        "      <th></th>\n",
        "      <th>major</th>\n",
        "      <th>friends</th>\n",
        "    </tr>\n",
        "  </thead>\n",
        "  <tbody>\n",
        "    <tr>\n",
        "      <th>0</th>\n",
        "      <td>  cs</td>\n",
        "      <td>  8</td>\n",
        "    </tr>\n",
        "    <tr>\n",
        "      <th>1</th>\n",
        "      <td>  cs</td>\n",
        "      <td>  2</td>\n",
        "    </tr>\n",
        "    <tr>\n",
        "      <th>2</th>\n",
        "      <td>  cs</td>\n",
        "      <td>  0</td>\n",
        "    </tr>\n",
        "    <tr>\n",
        "      <th>3</th>\n",
        "      <td>  cs</td>\n",
        "      <td>  1</td>\n",
        "    </tr>\n",
        "    <tr>\n",
        "      <th>4</th>\n",
        "      <td> law</td>\n",
        "      <td>  8</td>\n",
        "    </tr>\n",
        "    <tr>\n",
        "      <th>5</th>\n",
        "      <td> law</td>\n",
        "      <td> 20</td>\n",
        "    </tr>\n",
        "    <tr>\n",
        "      <th>6</th>\n",
        "      <td> law</td>\n",
        "      <td> 10</td>\n",
        "    </tr>\n",
        "    <tr>\n",
        "      <th>7</th>\n",
        "      <td> law</td>\n",
        "      <td>  7</td>\n",
        "    </tr>\n",
        "  </tbody>\n",
        "</table>\n",
        "</div>"
       ],
       "metadata": {},
       "output_type": "pyout",
       "prompt_number": 32,
       "text": [
        "  major  friends\n",
        "0    cs        8\n",
        "1    cs        2\n",
        "2    cs        0\n",
        "3    cs        1\n",
        "4   law        8\n",
        "5   law       20\n",
        "6   law       10\n",
        "7   law        7"
       ]
      }
     ],
     "prompt_number": 32
    },
    {
     "cell_type": "code",
     "collapsed": false,
     "input": [
      "a=[1,2,3]"
     ],
     "language": "python",
     "metadata": {},
     "outputs": [],
     "prompt_number": 33
    },
    {
     "cell_type": "code",
     "collapsed": false,
     "input": [
      "a.remove(2)"
     ],
     "language": "python",
     "metadata": {},
     "outputs": [],
     "prompt_number": 34
    },
    {
     "cell_type": "code",
     "collapsed": false,
     "input": [
      "a"
     ],
     "language": "python",
     "metadata": {},
     "outputs": [
      {
       "metadata": {},
       "output_type": "pyout",
       "prompt_number": 35,
       "text": [
        "[1, 3]"
       ]
      }
     ],
     "prompt_number": 35
    },
    {
     "cell_type": "code",
     "collapsed": false,
     "input": [
      "a=n.array(a)"
     ],
     "language": "python",
     "metadata": {},
     "outputs": [],
     "prompt_number": 58
    },
    {
     "cell_type": "code",
     "collapsed": false,
     "input": [
      "x=a * n.array([[2],[3]])"
     ],
     "language": "python",
     "metadata": {},
     "outputs": [],
     "prompt_number": 139
    },
    {
     "cell_type": "code",
     "collapsed": false,
     "input": [
      "x.size"
     ],
     "language": "python",
     "metadata": {},
     "outputs": [
      {
       "metadata": {},
       "output_type": "pyout",
       "prompt_number": 140,
       "text": [
        "4"
       ]
      }
     ],
     "prompt_number": 140
    },
    {
     "cell_type": "code",
     "collapsed": false,
     "input": [
      "x"
     ],
     "language": "python",
     "metadata": {},
     "outputs": [
      {
       "metadata": {},
       "output_type": "pyout",
       "prompt_number": 141,
       "text": [
        "array([[2, 6],\n",
        "       [3, 9]])"
       ]
      }
     ],
     "prompt_number": 141
    },
    {
     "cell_type": "code",
     "collapsed": false,
     "input": [
      "x.flatten()"
     ],
     "language": "python",
     "metadata": {},
     "outputs": [
      {
       "metadata": {},
       "output_type": "pyout",
       "prompt_number": 142,
       "text": [
        "array([2, 6, 3, 9])"
       ]
      }
     ],
     "prompt_number": 142
    },
    {
     "cell_type": "code",
     "collapsed": false,
     "input": [],
     "language": "python",
     "metadata": {},
     "outputs": []
    }
   ],
   "metadata": {}
  }
 ]
}