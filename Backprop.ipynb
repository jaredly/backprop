{
 "metadata": {
  "name": ""
 },
 "nbformat": 3,
 "nbformat_minor": 0,
 "worksheets": [
  {
   "cells": [
    {
     "cell_type": "code",
     "collapsed": false,
     "input": [
      "import numpy as n"
     ],
     "language": "python",
     "metadata": {},
     "outputs": [],
     "prompt_number": 57
    },
    {
     "cell_type": "code",
     "collapsed": false,
     "input": [
      "n.zeros((3, 2))"
     ],
     "language": "python",
     "metadata": {},
     "outputs": [
      {
       "metadata": {},
       "output_type": "pyout",
       "prompt_number": 3,
       "text": [
        "array([[ 0.,  0.],\n",
        "       [ 0.,  0.],\n",
        "       [ 0.,  0.]])"
       ]
      }
     ],
     "prompt_number": 3
    },
    {
     "cell_type": "code",
     "collapsed": false,
     "input": [
      "none = res"
     ],
     "language": "python",
     "metadata": {},
     "outputs": [],
     "prompt_number": 150
    },
    {
     "cell_type": "code",
     "collapsed": false,
     "input": [
      "import net; reload(net)\n",
      "import runner; reload(runner)\n",
      "import learner; reload(learner)\n",
      "import backprop; reload(backprop)\n",
      "from backprop import BackProp"
     ],
     "language": "python",
     "metadata": {},
     "outputs": [],
     "prompt_number": 244
    },
    {
     "cell_type": "code",
     "collapsed": false,
     "input": [
      "r, d = backprop.BackProp.fromArff('./data/iris.arff', layers=['*2'], rate=.1, stop_after=100)\n",
      "res = r.run(d, .7, validate=.3)\n",
      "print res[1], 'Final Accuracy'"
     ],
     "language": "python",
     "metadata": {},
     "outputs": [
      {
       "output_type": "stream",
       "stream": "stdout",
       "text": [
        "Using 105 for training, and 45 for testing\n",
        "Using 31 for training 74 for validation\n",
        ". "
       ]
      },
      {
       "output_type": "stream",
       "stream": "stdout",
       "text": [
        ". "
       ]
      },
      {
       "output_type": "stream",
       "stream": "stdout",
       "text": [
        ". "
       ]
      },
      {
       "output_type": "stream",
       "stream": "stdout",
       "text": [
        ". "
       ]
      },
      {
       "output_type": "stream",
       "stream": "stdout",
       "text": [
        ". "
       ]
      },
      {
       "output_type": "stream",
       "stream": "stdout",
       "text": [
        ". "
       ]
      },
      {
       "output_type": "stream",
       "stream": "stdout",
       "text": [
        ". "
       ]
      },
      {
       "output_type": "stream",
       "stream": "stdout",
       "text": [
        ". "
       ]
      },
      {
       "output_type": "stream",
       "stream": "stdout",
       "text": [
        ". "
       ]
      },
      {
       "output_type": "stream",
       "stream": "stdout",
       "text": [
        ". "
       ]
      },
      {
       "output_type": "stream",
       "stream": "stdout",
       "text": [
        ". "
       ]
      },
      {
       "output_type": "stream",
       "stream": "stdout",
       "text": [
        ". "
       ]
      },
      {
       "output_type": "stream",
       "stream": "stdout",
       "text": [
        ". "
       ]
      },
      {
       "output_type": "stream",
       "stream": "stdout",
       "text": [
        ". "
       ]
      },
      {
       "output_type": "stream",
       "stream": "stdout",
       "text": [
        ". "
       ]
      },
      {
       "output_type": "stream",
       "stream": "stdout",
       "text": [
        ". "
       ]
      },
      {
       "output_type": "stream",
       "stream": "stdout",
       "text": [
        ". "
       ]
      },
      {
       "output_type": "stream",
       "stream": "stdout",
       "text": [
        ". "
       ]
      },
      {
       "output_type": "stream",
       "stream": "stdout",
       "text": [
        ". "
       ]
      },
      {
       "output_type": "stream",
       "stream": "stdout",
       "text": [
        ". "
       ]
      },
      {
       "output_type": "stream",
       "stream": "stdout",
       "text": [
        ". "
       ]
      },
      {
       "output_type": "stream",
       "stream": "stdout",
       "text": [
        ". "
       ]
      },
      {
       "output_type": "stream",
       "stream": "stdout",
       "text": [
        ". "
       ]
      },
      {
       "output_type": "stream",
       "stream": "stdout",
       "text": [
        ". "
       ]
      },
      {
       "output_type": "stream",
       "stream": "stdout",
       "text": [
        ". "
       ]
      },
      {
       "output_type": "stream",
       "stream": "stdout",
       "text": [
        ". "
       ]
      },
      {
       "output_type": "stream",
       "stream": "stdout",
       "text": [
        ". "
       ]
      },
      {
       "output_type": "stream",
       "stream": "stdout",
       "text": [
        ". "
       ]
      },
      {
       "output_type": "stream",
       "stream": "stdout",
       "text": [
        ". "
       ]
      },
      {
       "output_type": "stream",
       "stream": "stdout",
       "text": [
        ". "
       ]
      },
      {
       "output_type": "stream",
       "stream": "stdout",
       "text": [
        ". "
       ]
      },
      {
       "output_type": "stream",
       "stream": "stdout",
       "text": [
        ". "
       ]
      },
      {
       "output_type": "stream",
       "stream": "stdout",
       "text": [
        ". "
       ]
      },
      {
       "output_type": "stream",
       "stream": "stdout",
       "text": [
        ". "
       ]
      },
      {
       "output_type": "stream",
       "stream": "stdout",
       "text": [
        ". "
       ]
      },
      {
       "output_type": "stream",
       "stream": "stdout",
       "text": [
        ". "
       ]
      },
      {
       "output_type": "stream",
       "stream": "stdout",
       "text": [
        ". "
       ]
      },
      {
       "output_type": "stream",
       "stream": "stdout",
       "text": [
        ". "
       ]
      },
      {
       "output_type": "stream",
       "stream": "stdout",
       "text": [
        ". "
       ]
      },
      {
       "output_type": "stream",
       "stream": "stdout",
       "text": [
        ". "
       ]
      },
      {
       "output_type": "stream",
       "stream": "stdout",
       "text": [
        ". "
       ]
      },
      {
       "output_type": "stream",
       "stream": "stdout",
       "text": [
        ". "
       ]
      },
      {
       "output_type": "stream",
       "stream": "stdout",
       "text": [
        ". "
       ]
      },
      {
       "output_type": "stream",
       "stream": "stdout",
       "text": [
        ". "
       ]
      },
      {
       "output_type": "stream",
       "stream": "stdout",
       "text": [
        ". "
       ]
      },
      {
       "output_type": "stream",
       "stream": "stdout",
       "text": [
        ". "
       ]
      },
      {
       "output_type": "stream",
       "stream": "stdout",
       "text": [
        ". "
       ]
      },
      {
       "output_type": "stream",
       "stream": "stdout",
       "text": [
        ". "
       ]
      },
      {
       "output_type": "stream",
       "stream": "stdout",
       "text": [
        ". "
       ]
      },
      {
       "output_type": "stream",
       "stream": "stdout",
       "text": [
        ". "
       ]
      },
      {
       "output_type": "stream",
       "stream": "stdout",
       "text": [
        ". "
       ]
      },
      {
       "output_type": "stream",
       "stream": "stdout",
       "text": [
        ". "
       ]
      },
      {
       "output_type": "stream",
       "stream": "stdout",
       "text": [
        ". "
       ]
      },
      {
       "output_type": "stream",
       "stream": "stdout",
       "text": [
        ". "
       ]
      },
      {
       "output_type": "stream",
       "stream": "stdout",
       "text": [
        ". "
       ]
      },
      {
       "output_type": "stream",
       "stream": "stdout",
       "text": [
        ". "
       ]
      },
      {
       "output_type": "stream",
       "stream": "stdout",
       "text": [
        ". "
       ]
      },
      {
       "output_type": "stream",
       "stream": "stdout",
       "text": [
        ". "
       ]
      },
      {
       "output_type": "stream",
       "stream": "stdout",
       "text": [
        ". "
       ]
      },
      {
       "output_type": "stream",
       "stream": "stdout",
       "text": [
        ". "
       ]
      },
      {
       "output_type": "stream",
       "stream": "stdout",
       "text": [
        ". "
       ]
      },
      {
       "output_type": "stream",
       "stream": "stdout",
       "text": [
        ". "
       ]
      },
      {
       "output_type": "stream",
       "stream": "stdout",
       "text": [
        ". "
       ]
      },
      {
       "output_type": "stream",
       "stream": "stdout",
       "text": [
        ". "
       ]
      },
      {
       "output_type": "stream",
       "stream": "stdout",
       "text": [
        ". "
       ]
      },
      {
       "output_type": "stream",
       "stream": "stdout",
       "text": [
        ". "
       ]
      },
      {
       "output_type": "stream",
       "stream": "stdout",
       "text": [
        ". "
       ]
      },
      {
       "output_type": "stream",
       "stream": "stdout",
       "text": [
        ". "
       ]
      },
      {
       "output_type": "stream",
       "stream": "stdout",
       "text": [
        ". "
       ]
      },
      {
       "output_type": "stream",
       "stream": "stdout",
       "text": [
        ". "
       ]
      },
      {
       "output_type": "stream",
       "stream": "stdout",
       "text": [
        ". "
       ]
      },
      {
       "output_type": "stream",
       "stream": "stdout",
       "text": [
        ". "
       ]
      },
      {
       "output_type": "stream",
       "stream": "stdout",
       "text": [
        ". "
       ]
      },
      {
       "output_type": "stream",
       "stream": "stdout",
       "text": [
        ". "
       ]
      },
      {
       "output_type": "stream",
       "stream": "stdout",
       "text": [
        ". "
       ]
      },
      {
       "output_type": "stream",
       "stream": "stdout",
       "text": [
        ". "
       ]
      },
      {
       "output_type": "stream",
       "stream": "stdout",
       "text": [
        ". "
       ]
      },
      {
       "output_type": "stream",
       "stream": "stdout",
       "text": [
        ". "
       ]
      },
      {
       "output_type": "stream",
       "stream": "stdout",
       "text": [
        ". "
       ]
      },
      {
       "output_type": "stream",
       "stream": "stdout",
       "text": [
        ". "
       ]
      },
      {
       "output_type": "stream",
       "stream": "stdout",
       "text": [
        ". "
       ]
      },
      {
       "output_type": "stream",
       "stream": "stdout",
       "text": [
        ". "
       ]
      },
      {
       "output_type": "stream",
       "stream": "stdout",
       "text": [
        ". "
       ]
      },
      {
       "output_type": "stream",
       "stream": "stdout",
       "text": [
        ". "
       ]
      },
      {
       "output_type": "stream",
       "stream": "stdout",
       "text": [
        ". "
       ]
      },
      {
       "output_type": "stream",
       "stream": "stdout",
       "text": [
        ". "
       ]
      },
      {
       "output_type": "stream",
       "stream": "stdout",
       "text": [
        ". "
       ]
      },
      {
       "output_type": "stream",
       "stream": "stdout",
       "text": [
        ". "
       ]
      },
      {
       "output_type": "stream",
       "stream": "stdout",
       "text": [
        ". "
       ]
      },
      {
       "output_type": "stream",
       "stream": "stdout",
       "text": [
        ". "
       ]
      },
      {
       "output_type": "stream",
       "stream": "stdout",
       "text": [
        ". "
       ]
      },
      {
       "output_type": "stream",
       "stream": "stdout",
       "text": [
        ". "
       ]
      },
      {
       "output_type": "stream",
       "stream": "stdout",
       "text": [
        ". "
       ]
      },
      {
       "output_type": "stream",
       "stream": "stdout",
       "text": [
        ". "
       ]
      },
      {
       "output_type": "stream",
       "stream": "stdout",
       "text": [
        ". "
       ]
      },
      {
       "output_type": "stream",
       "stream": "stdout",
       "text": [
        ". "
       ]
      },
      {
       "output_type": "stream",
       "stream": "stdout",
       "text": [
        ". "
       ]
      },
      {
       "output_type": "stream",
       "stream": "stdout",
       "text": [
        ". "
       ]
      },
      {
       "output_type": "stream",
       "stream": "stdout",
       "text": [
        ". "
       ]
      },
      {
       "output_type": "stream",
       "stream": "stdout",
       "text": [
        ". "
       ]
      },
      {
       "output_type": "stream",
       "stream": "stdout",
       "text": [
        ". "
       ]
      },
      {
       "output_type": "stream",
       "stream": "stdout",
       "text": [
        ". "
       ]
      },
      {
       "output_type": "stream",
       "stream": "stdout",
       "text": [
        ". "
       ]
      },
      {
       "output_type": "stream",
       "stream": "stdout",
       "text": [
        ". "
       ]
      },
      {
       "output_type": "stream",
       "stream": "stdout",
       "text": [
        ". "
       ]
      },
      {
       "output_type": "stream",
       "stream": "stdout",
       "text": [
        ". "
       ]
      },
      {
       "output_type": "stream",
       "stream": "stdout",
       "text": [
        ". "
       ]
      },
      {
       "output_type": "stream",
       "stream": "stdout",
       "text": [
        ". "
       ]
      },
      {
       "output_type": "stream",
       "stream": "stdout",
       "text": [
        ". "
       ]
      },
      {
       "output_type": "stream",
       "stream": "stdout",
       "text": [
        ". "
       ]
      },
      {
       "output_type": "stream",
       "stream": "stdout",
       "text": [
        ". "
       ]
      },
      {
       "output_type": "stream",
       "stream": "stdout",
       "text": [
        ". "
       ]
      },
      {
       "output_type": "stream",
       "stream": "stdout",
       "text": [
        ". "
       ]
      },
      {
       "output_type": "stream",
       "stream": "stdout",
       "text": [
        ". "
       ]
      },
      {
       "output_type": "stream",
       "stream": "stdout",
       "text": [
        ". "
       ]
      },
      {
       "output_type": "stream",
       "stream": "stdout",
       "text": [
        ". "
       ]
      },
      {
       "output_type": "stream",
       "stream": "stdout",
       "text": [
        ". "
       ]
      },
      {
       "output_type": "stream",
       "stream": "stdout",
       "text": [
        ". "
       ]
      },
      {
       "output_type": "stream",
       "stream": "stdout",
       "text": [
        ". "
       ]
      },
      {
       "output_type": "stream",
       "stream": "stdout",
       "text": [
        ". "
       ]
      },
      {
       "output_type": "stream",
       "stream": "stdout",
       "text": [
        ". "
       ]
      },
      {
       "output_type": "stream",
       "stream": "stdout",
       "text": [
        ". "
       ]
      },
      {
       "output_type": "stream",
       "stream": "stdout",
       "text": [
        ". "
       ]
      },
      {
       "output_type": "stream",
       "stream": "stdout",
       "text": [
        ". "
       ]
      },
      {
       "output_type": "stream",
       "stream": "stdout",
       "text": [
        ". "
       ]
      },
      {
       "output_type": "stream",
       "stream": "stdout",
       "text": [
        ". "
       ]
      },
      {
       "output_type": "stream",
       "stream": "stdout",
       "text": [
        ". "
       ]
      },
      {
       "output_type": "stream",
       "stream": "stdout",
       "text": [
        ". "
       ]
      },
      {
       "output_type": "stream",
       "stream": "stdout",
       "text": [
        ". "
       ]
      },
      {
       "output_type": "stream",
       "stream": "stdout",
       "text": [
        ". "
       ]
      },
      {
       "output_type": "stream",
       "stream": "stdout",
       "text": [
        ". "
       ]
      },
      {
       "output_type": "stream",
       "stream": "stdout",
       "text": [
        ". "
       ]
      },
      {
       "output_type": "stream",
       "stream": "stdout",
       "text": [
        "Fully trained\n",
        "(0.08888888888888889, 4.0) Final Accuracy\n"
       ]
      }
     ],
     "prompt_number": 245
    },
    {
     "cell_type": "code",
     "collapsed": false,
     "input": [
      "plot([x[0] for x in res[0]])\n",
      "plot([x[1] for x in res[0]])"
     ],
     "language": "python",
     "metadata": {},
     "outputs": [
      {
       "metadata": {},
       "output_type": "pyout",
       "prompt_number": 246,
       "text": [
        "[<matplotlib.lines.Line2D at 0xde80e0c>]"
       ]
      }
     ],
     "prompt_number": 246
    },
    {
     "cell_type": "code",
     "collapsed": false,
     "input": [
      "lines = []\n",
      "i = 0\n",
      "for err, val, weights in res[0]:\n",
      "    line = []\n",
      "    for l in weights:\n",
      "        line += list(l.flatten())\n",
      "    lines.append(line)\n",
      "allz = n.array(lines)\n",
      "plot(allz)"
     ],
     "language": "python",
     "metadata": {},
     "outputs": [
      {
       "metadata": {},
       "output_type": "pyout",
       "prompt_number": 243,
       "text": [
        "[<matplotlib.lines.Line2D at 0xe74892c>,\n",
        " <matplotlib.lines.Line2D at 0xe748c0c>,\n",
        " <matplotlib.lines.Line2D at 0xe748dcc>,\n",
        " <matplotlib.lines.Line2D at 0xe748f4c>,\n",
        " <matplotlib.lines.Line2D at 0xe74e0ec>,\n",
        " <matplotlib.lines.Line2D at 0xe74e26c>,\n",
        " <matplotlib.lines.Line2D at 0xe74e3ec>,\n",
        " <matplotlib.lines.Line2D at 0xe0eaccc>,\n",
        " <matplotlib.lines.Line2D at 0xe74e6ec>,\n",
        " <matplotlib.lines.Line2D at 0xe74e86c>,\n",
        " <matplotlib.lines.Line2D at 0xe74e9ec>,\n",
        " <matplotlib.lines.Line2D at 0xe74eb6c>,\n",
        " <matplotlib.lines.Line2D at 0xe74ecec>,\n",
        " <matplotlib.lines.Line2D at 0xe74ee6c>,\n",
        " <matplotlib.lines.Line2D at 0xe74efec>,\n",
        " <matplotlib.lines.Line2D at 0xe75218c>,\n",
        " <matplotlib.lines.Line2D at 0xe75230c>,\n",
        " <matplotlib.lines.Line2D at 0xe75248c>,\n",
        " <matplotlib.lines.Line2D at 0xe75260c>,\n",
        " <matplotlib.lines.Line2D at 0xe75278c>,\n",
        " <matplotlib.lines.Line2D at 0xe75290c>,\n",
        " <matplotlib.lines.Line2D at 0xe74efcc>,\n",
        " <matplotlib.lines.Line2D at 0xe752c0c>,\n",
        " <matplotlib.lines.Line2D at 0xe752d8c>,\n",
        " <matplotlib.lines.Line2D at 0xe752f0c>,\n",
        " <matplotlib.lines.Line2D at 0xe7560ac>,\n",
        " <matplotlib.lines.Line2D at 0xe75622c>,\n",
        " <matplotlib.lines.Line2D at 0xe7563ac>,\n",
        " <matplotlib.lines.Line2D at 0xe752a6c>,\n",
        " <matplotlib.lines.Line2D at 0xe7566ac>,\n",
        " <matplotlib.lines.Line2D at 0xe75682c>,\n",
        " <matplotlib.lines.Line2D at 0xe7569ac>,\n",
        " <matplotlib.lines.Line2D at 0xe756b2c>,\n",
        " <matplotlib.lines.Line2D at 0xe756cac>,\n",
        " <matplotlib.lines.Line2D at 0xe756e2c>]"
       ]
      }
     ],
     "prompt_number": 243
    },
    {
     "cell_type": "code",
     "collapsed": false,
     "input": [
      "res"
     ],
     "language": "python",
     "metadata": {},
     "outputs": [
      {
       "metadata": {},
       "output_type": "pyout",
       "prompt_number": 174,
       "text": [
        "([[0.3707841323308278,\n",
        "   (0.5, 5.0),\n",
        "   [array([[ 0.00197092,  0.00113731, -0.00380814,  0.00068399,  0.00507656],\n",
        "       [-0.00466564, -0.00353119,  0.00280519, -0.00333371,  0.00085329],\n",
        "       [ 0.00452196, -0.00464944, -0.00171543,  0.00291121, -0.00481703],\n",
        "       [ 0.00188048,  0.00137385,  0.00247911,  0.00479918, -0.00342908]]),\n",
        "    array([[-0.01938536, -0.01425971, -0.02057444, -0.01610073, -0.04034387],\n",
        "       [-0.01502426, -0.02201515, -0.01873141, -0.02226453, -0.04104975],\n",
        "       [-0.0161869 , -0.01477071, -0.02297824, -0.01696467, -0.03494252]])]],\n",
        "  [0.36296658856630376,\n",
        "   (0.5, 5.0),\n",
        "   [array([[ 0.00202865,  0.00116961, -0.00393399,  0.00070649,  0.00541704],\n",
        "       [-0.00479428, -0.00364563,  0.00288633, -0.00343156,  0.00091104],\n",
        "       [ 0.004662  , -0.00480614, -0.00177329,  0.00300793, -0.00518937],\n",
        "       [ 0.00193512,  0.00141995,  0.00255532,  0.00494797, -0.00367413]]),\n",
        "    array([[-0.03561844, -0.03043197, -0.03679475, -0.0323851 , -0.07276581],\n",
        "       [-0.03216264, -0.03906551, -0.03576453, -0.03935769, -0.07522277],\n",
        "       [-0.03250958, -0.03104234, -0.03917993, -0.03318839, -0.0674833 ]])]],\n",
        "  [0.35682835891661274,\n",
        "   (0.5, 5.0),\n",
        "   [array([[ 0.00211322,  0.00121759, -0.00411618,  0.00073887,  0.00593887],\n",
        "       [-0.00498542, -0.0038096 ,  0.00300774, -0.00357627,  0.00099919],\n",
        "       [ 0.00486186, -0.00502612, -0.00185571,  0.00314523, -0.00573651],\n",
        "       [ 0.00201503,  0.0014852 ,  0.00266738,  0.0051647 , -0.00404254]]),\n",
        "    array([[-0.04996568, -0.04472284, -0.05113433, -0.046786  , -0.10142104],\n",
        "       [-0.04738756, -0.05420569, -0.05088597, -0.05453646, -0.10557158],\n",
        "       [-0.04694212, -0.04542846, -0.05349295, -0.04751928, -0.09624671]])]],\n",
        "  [0.35200027291074948,\n",
        "   (0.5, 5.0),\n",
        "   [array([[ 0.00221622,  0.00127906, -0.00433423,  0.00077791,  0.00661983],\n",
        "       [-0.00521839, -0.00401619,  0.0031537 , -0.00375142,  0.00111373],\n",
        "       [ 0.00510256, -0.00530111, -0.00195353,  0.00330956, -0.00644035],\n",
        "       [ 0.002112  ,  0.00156699,  0.00280159,  0.00542615, -0.00451922]]),\n",
        "    array([[-0.06292237, -0.05762424, -0.06408409, -0.05979672, -0.12729536],\n",
        "       [-0.0604008 , -0.06714002, -0.0638014 , -0.06750455, -0.13150369],\n",
        "       [-0.05994804, -0.05838929, -0.0663759 , -0.06041784, -0.12215473]])]],\n",
        "  [0.34824720477291171,\n",
        "   (0.5, 5.0),\n",
        "   [array([[ 0.00233329,  0.00134572, -0.00458994,  0.00082322,  0.00744483],\n",
        "       [-0.00548406, -0.00424094,  0.00332604, -0.00395577,  0.00125276],\n",
        "       [ 0.00537418, -0.00559737, -0.00206755,  0.00349916, -0.00728813],\n",
        "       [ 0.00222232,  0.0016557 ,  0.0029596 ,  0.00573049, -0.00509655]]),\n",
        "    array([[-0.07406849, -0.06872045, -0.07523124, -0.0710018 , -0.14955574],\n",
        "       [-0.07252813, -0.07918443, -0.07582213, -0.07957997, -0.15565587],\n",
        "       [-0.07121432, -0.06961542, -0.07752043, -0.07157319, -0.14458622]])]],\n",
        "  [0.34527055857835098,\n",
        "   (0.5, 5.0),\n",
        "   [array([[ 0.00246425,  0.00141707, -0.00488128,  0.00087484,  0.00840234],\n",
        "       [-0.00578147, -0.00448204,  0.00352276, -0.00418901,  0.0014142 ],\n",
        "       [ 0.00567643, -0.0059129 , -0.00219688,  0.00371425, -0.0082702 ],\n",
        "       [ 0.00234568,  0.00175062,  0.00313981,  0.00607766, -0.00576652]]),\n",
        "    array([[-0.08364366, -0.07825103, -0.08481616, -0.08064205, -0.16868198],\n",
        "       [-0.08352219, -0.09009383, -0.08670398, -0.09051685, -0.1775366 ],\n",
        "       [-0.08129449, -0.07965681, -0.08747461, -0.08153544, -0.16464266]])]],\n",
        "  [0.34293572804416661,\n",
        "   (0.5, 5.0),\n",
        "   [array([[ 0.00260218,  0.00149495, -0.00518553,  0.00092917,  0.00948106],\n",
        "       [-0.00609319, -0.00474458,  0.00372655, -0.00443273,  0.00159552],\n",
        "       [ 0.00599345, -0.00625547, -0.00233131,  0.00393949, -0.00937625],\n",
        "       [ 0.00247515,  0.00185379,  0.00332704,  0.00644141, -0.00651955]]),\n",
        "    array([[-0.09238088, -0.08694308, -0.09356288, -0.08944547, -0.18613087],\n",
        "       [-0.09273975, -0.0992331 , -0.09581719, -0.09968   , -0.19587297],\n",
        "       [-0.09058318, -0.08890501, -0.09662805, -0.09069623, -0.18310829]])]],\n",
        "  [0.34109670534491116,\n",
        "   (0.5, 5.0),\n",
        "   [array([[ 0.00273882,  0.00157584, -0.00548492,  0.00098238,  0.01066904],\n",
        "       [-0.00640075, -0.00501832,  0.00392522, -0.00466946,  0.00179517],\n",
        "       [ 0.00630618, -0.00661031, -0.00246285,  0.00415876, -0.01059401],\n",
        "       [ 0.00260324,  0.00196118,  0.00351042,  0.00679643, -0.00734926]]),\n",
        "    array([[-0.1003136 , -0.09483051, -0.10150546, -0.09744564, -0.20196995],\n",
        "       [-0.10114012, -0.10755296, -0.10410743, -0.10802102, -0.21256994],\n",
        "       [-0.09849652, -0.09678407, -0.10440988, -0.09847969, -0.19882852]])]],\n",
        "  [0.339632510093482,\n",
        "   (0.5, 5.0),\n",
        "   [array([[ 0.00287642,  0.00165701, -0.00578827,  0.00103614,  0.01195304],\n",
        "       [-0.00670946, -0.00529468,  0.00412514, -0.00490718,  0.00201096],\n",
        "       [ 0.0066199 , -0.00696609, -0.00259551,  0.00437917, -0.01191075],\n",
        "       [ 0.0027321 ,  0.0020694 ,  0.00369569,  0.00715439, -0.00824664]]),\n",
        "    array([[-0.10733732, -0.10181129, -0.10854364, -0.10454085, -0.21599454],\n",
        "       [-0.10878442, -0.11511484, -0.11163638, -0.11560118, -0.22775018],\n",
        "       [-0.10544437, -0.10370105, -0.1112257 , -0.10529318, -0.21261865]])]],\n",
        "  [0.33846433887438887,\n",
        "   (0.5, 5.0),\n",
        "   [array([[ 0.00301914,  0.0017374 , -0.0061086 ,  0.00109302,  0.01331867],\n",
        "       [-0.00702889, -0.0055702 ,  0.00433543, -0.00515781,  0.00224044],\n",
        "       [ 0.0069442 , -0.00731843, -0.0027351 ,  0.00461148, -0.01331261],\n",
        "       [ 0.00286565,  0.00217703,  0.00389108,  0.00753281, -0.00920137]]),\n",
        "    array([[-0.11338095, -0.10781734, -0.11461171, -0.11066375, -0.22806771],\n",
        "       [-0.11562464, -0.12187247, -0.11835919, -0.12237459, -0.24132087],\n",
        "       [-0.11186565, -0.11009015, -0.11750668, -0.11157064, -0.22534867]])]],\n",
        "  [0.33753943574782053,\n",
        "   (0.5, 5.0),\n",
        "   [array([[ 0.00315699,  0.00181744, -0.00641849,  0.00114798,  0.01475115],\n",
        "       [-0.00733572, -0.00584609,  0.00453659, -0.00539761,  0.002481  ],\n",
        "       [ 0.00725632, -0.00766888, -0.00286948,  0.00483474, -0.01478386],\n",
        "       [ 0.00299449,  0.00228459,  0.0040793 ,  0.00789744, -0.01020307]]),\n",
        "    array([[-0.1188726 , -0.11327202, -0.12012989, -0.1162375 , -0.23903785],\n",
        "       [-0.12176118, -0.12792632, -0.12437674, -0.12844224, -0.25348324],\n",
        "       [-0.11750444, -0.11570032, -0.12300564, -0.11706196, -0.23651542]])]],\n",
        "  [0.33677803627745401,\n",
        "   (0.7, 7.0),\n",
        "   [array([[ 0.00329894,  0.00189379, -0.00674618,  0.00120612,  0.01623565],\n",
        "       [-0.00765123, -0.00611203,  0.00474882, -0.00565077,  0.00273057],\n",
        "       [ 0.00757671, -0.00800345, -0.00301117,  0.00507019, -0.01630982],\n",
        "       [ 0.00312721,  0.00238792,  0.00427841,  0.0082835 , -0.01124216]]),\n",
        "    array([[-0.12341664, -0.11778741, -0.12471644, -0.12087587, -0.24812748],\n",
        "       [-0.12746161, -0.13354093, -0.12995136, -0.1340681 , -0.26476709],\n",
        "       [-0.12272786, -0.1208943 , -0.12808187, -0.1221291 , -0.24684541]])]],\n",
        "  [0.33620052239461207,\n",
        "   (0.7, 7.0),\n",
        "   [array([[ 0.00343013,  0.00197186, -0.00703908,  0.00125811,  0.01775598],\n",
        "       [-0.00793999, -0.00638434,  0.00493458, -0.00587301,  0.00298547],\n",
        "       [ 0.00787182, -0.00834454, -0.00313709,  0.00527933, -0.01787319],\n",
        "       [ 0.00324962,  0.00249357,  0.00445502,  0.00862692, -0.0123051 ]]),\n",
        "    array([[-0.12792969, -0.12226596, -0.12926326, -0.12547916, -0.25714516],\n",
        "       [-0.13228859, -0.13828772, -0.13466156, -0.13882552, -0.27431351],\n",
        "       [-0.12726824, -0.12541013, -0.13247837, -0.12651195, -0.25581382]])]],\n",
        "  [0.33571472680884873,\n",
        "   (0.7, 7.0),\n",
        "   [array([[ 0.00355292,  0.0020501 , -0.00730834,  0.00130609,  0.01929781],\n",
        "       [-0.00820772, -0.00665807,  0.005102  , -0.00607458,  0.0032433 ],\n",
        "       [ 0.00814716, -0.00868559, -0.00325227,  0.00547124, -0.01945968],\n",
        "       [ 0.00336401,  0.00259954,  0.00461639,  0.00894267, -0.01338165]]),\n",
        "    array([[-0.13223999, -0.12653925, -0.13360383, -0.12987861, -0.26575265],\n",
        "       [-0.13632843, -0.14225349, -0.1385948 , -0.14280193, -0.28229638],\n",
        "       [-0.13139778, -0.1295164 , -0.13646144, -0.13047891, -0.26395902]])]],\n",
        "  [0.33533278962921359,\n",
        "   (0.5, 5.0),\n",
        "   [array([[ 0.0036702 ,  0.0021244 , -0.00756776,  0.00135217,  0.02084754],\n",
        "       [-0.00846207, -0.00692084,  0.00526144, -0.00626617,  0.00350259],\n",
        "       [ 0.00840936, -0.00900947, -0.00336283,  0.00565472, -0.02105465],\n",
        "       [ 0.00347343,  0.00270092,  0.00477175,  0.00924618, -0.01446484]]),\n",
        "    array([[-0.13604039, -0.13030642, -0.13744233, -0.1337745 , -0.27334704],\n",
        "       [-0.14015503, -0.14600302, -0.14230853, -0.14656018, -0.28984704],\n",
        "       [-0.13498951, -0.13308938, -0.13991062, -0.13390798, -0.27103355]])]],\n",
        "  [0.3350162260094291,\n",
        "   (0.7, 7.0),\n",
        "   [array([[ 0.00379046,  0.00219402, -0.0078407 ,  0.00140114,  0.02239246],\n",
        "       [-0.00872234, -0.00716997,  0.00542893, -0.00646965,  0.0037612 ],\n",
        "       [ 0.00867753, -0.00931305, -0.00347898,  0.00584951, -0.02264561],\n",
        "       [ 0.00358571,  0.00279657,  0.00493555,  0.00956963, -0.01554451]]),\n",
        "    array([[-0.13916569, -0.13340675, -0.14062192, -0.13700763, -0.2796063 ],\n",
        "       [-0.14363528, -0.14940634, -0.1456755 , -0.14997107, -0.2967051 ],\n",
        "       [-0.13848694, -0.1365651 , -0.14325564, -0.137233  , -0.27791064]])]],\n",
        "  [0.33476510305857443,\n",
        "   (0.7, 7.0),\n",
        "   [array([[ 0.00390424,  0.00226096, -0.00809826,  0.00144729,  0.02392112],\n",
        "       [-0.00896674, -0.00741158,  0.00558448, -0.00665873,  0.0040169 ],\n",
        "       [ 0.00893064, -0.00960456, -0.00358824,  0.00603235, -0.02422014],\n",
        "       [ 0.00369212,  0.00288897,  0.00508994,  0.00987473, -0.01661252]]),\n",
        "    array([[-0.14201718, -0.13623476, -0.14353187, -0.13997129, -0.28532103],\n",
        "       [-0.14674587, -0.15244149, -0.14867533, -0.1530136 , -0.30282667],\n",
        "       [-0.14163307, -0.13969211, -0.14624976, -0.14020415, -0.28408658]])]],\n",
        "  [0.33456073019377669,\n",
        "   (0.7, 7.0),\n",
        "   [array([[ 0.00400909,  0.00232432, -0.00833521,  0.00148956,  0.02542373],\n",
        "       [-0.00918995, -0.00764288,  0.00572476, -0.00682882,  0.00426826],\n",
        "       [ 0.00916328, -0.00988005, -0.00368844,  0.00619911, -0.02576762],\n",
        "       [ 0.00379049,  0.00297704,  0.00523201,  0.01015496, -0.01766315]]),\n",
        "    array([[-0.14461713, -0.13881313, -0.14619473, -0.14268785, -0.29053622],\n",
        "       [-0.1496727 , -0.15529126, -0.15148832, -0.15586985, -0.30857793],\n",
        "       [-0.14432153, -0.14236693, -0.14879294, -0.14271975, -0.28935465]])]],\n",
        "  [0.33439141963509156,\n",
        "   (0.7, 7.0),\n",
        "   [array([[ 0.00410428,  0.00238636, -0.00854556,  0.00152701,  0.02689169],\n",
        "       [-0.00939   , -0.00787066,  0.00584561, -0.00697558,  0.00451339],\n",
        "       [ 0.00937409, -0.01014887, -0.00377714,  0.00634628, -0.02727966],\n",
        "       [ 0.00388007,  0.00306343,  0.00535801,  0.01040401, -0.01868904]]),\n",
        "    array([[-0.14713842, -0.14131145, -0.1487774 , -0.1453258 , -0.2955915 ],\n",
        "       [-0.1522174 , -0.15776218, -0.15392513, -0.15834788, -0.31357128],\n",
        "       [-0.14667943, -0.14471504, -0.15100946, -0.14490526, -0.29396621]])]],\n",
        "  [0.33424611491249179,\n",
        "   (0.5, 5.0),\n",
        "   [array([[ 0.0041891 ,  0.00244678, -0.00872603,  0.00155885,  0.02831846],\n",
        "       [-0.00956557, -0.00809403,  0.00594514, -0.0070958 ,  0.00475132],\n",
        "       [ 0.0095617 , -0.01040976, -0.00385307,  0.0064709 , -0.02874929],\n",
        "       [ 0.00396035,  0.00314784,  0.00546622,  0.01061699, -0.01968644]]),\n",
        "    array([[-0.14960774, -0.14375612, -0.15130561, -0.14791091, -0.30053951],\n",
        "       [-0.15449713, -0.15996969, -0.15609984, -0.16056268, -0.31803788],\n",
        "       [-0.14864416, -0.14667582, -0.15284112, -0.14670161, -0.2978003 ]])]],\n",
        "  [0.33413897018060362,\n",
        "   (0.5, 5.0),\n",
        "   [array([[ 0.00428178,  0.00249822, -0.00894266,  0.00159761,  0.029698  ],\n",
        "       [-0.00975893, -0.0082898 ,  0.00606863, -0.00724673,  0.00498227],\n",
        "       [ 0.00976629, -0.01063234, -0.0039444 ,  0.00662318, -0.0301696 ],\n",
        "       [ 0.00404832,  0.00322094,  0.00559737,  0.01087795, -0.02065122]]),\n",
        "    array([[-0.15124926, -0.14538897, -0.15303662, -0.14969035, -0.3038617 ],\n",
        "       [-0.15682373, -0.1622191 , -0.15831216, -0.16281766, -0.32258933],\n",
        "       [-0.15073988, -0.14876237, -0.15479054, -0.14861737, -0.30188411]])]]],\n",
        " (0.7111111111111111, 32.0))"
       ]
      }
     ],
     "prompt_number": 174
    },
    {
     "cell_type": "code",
     "collapsed": false,
     "input": [
      "%pylab"
     ],
     "language": "python",
     "metadata": {},
     "outputs": [
      {
       "output_type": "stream",
       "stream": "stdout",
       "text": [
        "Using matplotlib backend: Qt4Agg\n",
        "Populating the interactive namespace from numpy and matplotlib\n"
       ]
      }
     ],
     "prompt_number": 80
    },
    {
     "cell_type": "code",
     "collapsed": false,
     "input": [],
     "language": "python",
     "metadata": {},
     "outputs": []
    },
    {
     "cell_type": "code",
     "collapsed": false,
     "input": [],
     "language": "python",
     "metadata": {},
     "outputs": []
    }
   ],
   "metadata": {}
  }
 ]
}